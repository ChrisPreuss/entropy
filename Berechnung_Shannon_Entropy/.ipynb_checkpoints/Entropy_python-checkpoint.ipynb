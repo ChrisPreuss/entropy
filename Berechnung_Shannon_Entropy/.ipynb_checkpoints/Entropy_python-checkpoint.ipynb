{
 "cells": [
  {
   "cell_type": "code",
   "execution_count": 126,
   "metadata": {},
   "outputs": [],
   "source": [
    "import pandas as pd\n",
    "import statsmodels\n",
    "import numpy as np\n",
    "import scipy as sc\n",
    "import math\n",
    "from collections import Counter\n",
    "import sklearn\n",
    "\n",
    "import numpy as np\n",
    "\n",
    "from scipy.special import gamma,psi\n",
    "from scipy import ndimage\n",
    "from scipy.linalg import det\n",
    "from numpy import pi\n",
    "\n",
    "from sklearn.neighbors import NearestNeighbors\n",
    "\n"
   ]
  },
  {
   "cell_type": "code",
   "execution_count": 134,
   "metadata": {},
   "outputs": [
    {
     "name": "stdout",
     "output_type": "stream",
     "text": [
      "   Count\n",
      "0     11\n",
      "1     11\n",
      "2     11\n",
      "3     11\n",
      "4     11\n"
     ]
    }
   ],
   "source": [
    "bild_1 = pd.read_csv('Bild_1.csv')\n",
    "bild_2 = pd.read_csv('Bild_2.csv')\n",
    "bild_3 = pd.read_csv('Bild_3.csv')\n",
    "bild_4 = pd.read_csv('Bild_4.csv')\n",
    "bild_5 = pd.read_csv('Bild_5.csv')\n",
    "bild_6 = pd.read_csv('Bild_6.csv')\n",
    "#data.drop(data.columns[[0]], axis=1, inplace=True)\n",
    "#data.drop('Value', axis=1, inplace=True)\n",
    "\n",
    "\n",
    "# Or export it in many ways, e.g. a list of tuples\n",
    "#tuples = [tuple(x) for x in df.values]\n",
    "\n",
    "# or export it as a list of dicts\n",
    "#\n",
    "#dicts = df.to_dict().values()\n",
    "\n",
    "\n",
    "data.columns.values[0] = \"Count\"\n",
    "data.set_index('Count')\n",
    "print (data.head())"
   ]
  },
  {
   "cell_type": "code",
   "execution_count": 135,
   "metadata": {},
   "outputs": [
    {
     "name": "stdout",
     "output_type": "stream",
     "text": [
      "[[11]\n",
      " [11]\n",
      " [11]\n",
      " [11]\n",
      " [11]\n",
      " [11]\n",
      " [11]\n",
      " [11]]\n"
     ]
    }
   ],
   "source": [
    "n = data.as_matrix()\n",
    "print (n)"
   ]
  },
  {
   "cell_type": "code",
   "execution_count": 137,
   "metadata": {},
   "outputs": [
    {
     "name": "stdout",
     "output_type": "stream",
     "text": [
      "3.0\n"
     ]
    }
   ],
   "source": [
    "import math\n",
    "from collections import Counter\n",
    "\n",
    "def eta(data, unit= x):\n",
    "    base = {\n",
    "        'shannon' : 2.,\n",
    "        'natural' : math.exp(1),\n",
    "        'hartley' : 10.\n",
    "    }\n",
    "\n",
    "    if len(data) <= 1:\n",
    "        return 0\n",
    "\n",
    "    counts = Counter()\n",
    "\n",
    "    for d in data:\n",
    "        counts[d] += 1\n",
    "\n",
    "    probs = [float(c) / len(data) for c in counts.values()]\n",
    "    probs = [p for p in probs if p > 0.]\n",
    "\n",
    "    ent = 0\n",
    "\n",
    "    for p in probs:\n",
    "        if p > 0.:\n",
    "            ent -= p * math.log(p, base[unit])\n",
    "            t = len(data)\n",
    "            hs = ent*t\n",
    "\n",
    "    return hs\n",
    "\n",
    "print (eta(data, 'shannon'))"
   ]
  },
  {
   "cell_type": "code",
   "execution_count": null,
   "metadata": {
    "collapsed": true
   },
   "outputs": [],
   "source": []
  }
 ],
 "metadata": {
  "kernelspec": {
   "display_name": "Python 3",
   "language": "python",
   "name": "python3"
  },
  "language_info": {
   "codemirror_mode": {
    "name": "ipython",
    "version": 3
   },
   "file_extension": ".py",
   "mimetype": "text/x-python",
   "name": "python",
   "nbconvert_exporter": "python",
   "pygments_lexer": "ipython3",
   "version": "3.6.1"
  }
 },
 "nbformat": 4,
 "nbformat_minor": 2
}
