{
 "cells": [
  {
   "cell_type": "markdown",
   "metadata": {},
   "source": [
    "# Data Science - QM II (Part 1)\n",
    "\n",
    "### Quantitative Methoden II\n",
    "\n",
    "###### -Chris Preuss (836597)\n",
    "\n",
    "###### -Dozenten: Prof. Dr. Reiner Kurzhals \n",
    "\n",
    "###### 12/05/2017"
   ]
  },
  {
   "cell_type": "markdown",
   "metadata": {},
   "source": [
    "# Bank Loan Calculations"
   ]
  },
  {
   "cell_type": "code",
   "execution_count": 6,
   "metadata": {},
   "outputs": [
    {
     "data": {
      "text/html": [
       "<div>\n",
       "<table border=\"1\" class=\"dataframe\">\n",
       "  <thead>\n",
       "    <tr style=\"text-align: right;\">\n",
       "      <th></th>\n",
       "      <th>Status</th>\n",
       "      <th>Amount</th>\n",
       "      <th>ApplicationSignedHour</th>\n",
       "      <th>ApplicationSignedWeekday</th>\n",
       "      <th>City</th>\n",
       "      <th>Country</th>\n",
       "      <th>CreditScoreEsEquifaxRisk</th>\n",
       "      <th>DateOfBirth</th>\n",
       "      <th>DebtToIncome</th>\n",
       "      <th>Education</th>\n",
       "      <th>...</th>\n",
       "      <th>MaritalStatus</th>\n",
       "      <th>NewCreditCustomer</th>\n",
       "      <th>NoOfPreviousLoansBeforeLoan</th>\n",
       "      <th>OccupationArea</th>\n",
       "      <th>UseOfLoan</th>\n",
       "      <th>VerificationType</th>\n",
       "      <th>WorkExperience</th>\n",
       "      <th>PreviousScore</th>\n",
       "      <th>Defaulted</th>\n",
       "      <th>DefaultDate</th>\n",
       "    </tr>\n",
       "    <tr>\n",
       "      <th>ID</th>\n",
       "      <th></th>\n",
       "      <th></th>\n",
       "      <th></th>\n",
       "      <th></th>\n",
       "      <th></th>\n",
       "      <th></th>\n",
       "      <th></th>\n",
       "      <th></th>\n",
       "      <th></th>\n",
       "      <th></th>\n",
       "      <th></th>\n",
       "      <th></th>\n",
       "      <th></th>\n",
       "      <th></th>\n",
       "      <th></th>\n",
       "      <th></th>\n",
       "      <th></th>\n",
       "      <th></th>\n",
       "      <th></th>\n",
       "      <th></th>\n",
       "      <th></th>\n",
       "    </tr>\n",
       "  </thead>\n",
       "  <tbody>\n",
       "    <tr>\n",
       "      <th>0</th>\n",
       "      <td>Current</td>\n",
       "      <td>5000.0</td>\n",
       "      <td>12</td>\n",
       "      <td>4</td>\n",
       "      <td>AESPA</td>\n",
       "      <td>EE</td>\n",
       "      <td>NaN</td>\n",
       "      <td>1975-11-21</td>\n",
       "      <td>51.52</td>\n",
       "      <td>4.0</td>\n",
       "      <td>...</td>\n",
       "      <td>4.0</td>\n",
       "      <td>False</td>\n",
       "      <td>1</td>\n",
       "      <td>8.0</td>\n",
       "      <td>0</td>\n",
       "      <td>1.0</td>\n",
       "      <td>15To25Years</td>\n",
       "      <td>0.0957</td>\n",
       "      <td>False</td>\n",
       "      <td>NaN</td>\n",
       "    </tr>\n",
       "    <tr>\n",
       "      <th>2</th>\n",
       "      <td>Repaid</td>\n",
       "      <td>530.0</td>\n",
       "      <td>14</td>\n",
       "      <td>2</td>\n",
       "      <td>PÄRNU</td>\n",
       "      <td>EE</td>\n",
       "      <td>NaN</td>\n",
       "      <td>1969-10-25</td>\n",
       "      <td>30.32</td>\n",
       "      <td>4.0</td>\n",
       "      <td>...</td>\n",
       "      <td>1.0</td>\n",
       "      <td>True</td>\n",
       "      <td>0</td>\n",
       "      <td>1.0</td>\n",
       "      <td>2</td>\n",
       "      <td>4.0</td>\n",
       "      <td>15To25Years</td>\n",
       "      <td>0.1034</td>\n",
       "      <td>False</td>\n",
       "      <td>NaN</td>\n",
       "    </tr>\n",
       "    <tr>\n",
       "      <th>3</th>\n",
       "      <td>Current</td>\n",
       "      <td>5500.0</td>\n",
       "      <td>22</td>\n",
       "      <td>4</td>\n",
       "      <td>TALLINN</td>\n",
       "      <td>EE</td>\n",
       "      <td>NaN</td>\n",
       "      <td>1965-11-22</td>\n",
       "      <td>29.57</td>\n",
       "      <td>4.0</td>\n",
       "      <td>...</td>\n",
       "      <td>4.0</td>\n",
       "      <td>True</td>\n",
       "      <td>0</td>\n",
       "      <td>13.0</td>\n",
       "      <td>2</td>\n",
       "      <td>3.0</td>\n",
       "      <td>MoreThan25Years</td>\n",
       "      <td>0.0772</td>\n",
       "      <td>False</td>\n",
       "      <td>NaN</td>\n",
       "    </tr>\n",
       "    <tr>\n",
       "      <th>4</th>\n",
       "      <td>Repaid</td>\n",
       "      <td>6900.0</td>\n",
       "      <td>15</td>\n",
       "      <td>3</td>\n",
       "      <td>KEHTNA</td>\n",
       "      <td>EE</td>\n",
       "      <td>NaN</td>\n",
       "      <td>1983-12-05</td>\n",
       "      <td>45.75</td>\n",
       "      <td>2.0</td>\n",
       "      <td>...</td>\n",
       "      <td>3.0</td>\n",
       "      <td>False</td>\n",
       "      <td>1</td>\n",
       "      <td>19.0</td>\n",
       "      <td>7</td>\n",
       "      <td>4.0</td>\n",
       "      <td>5To10Years</td>\n",
       "      <td>0.0773</td>\n",
       "      <td>False</td>\n",
       "      <td>NaN</td>\n",
       "    </tr>\n",
       "    <tr>\n",
       "      <th>5</th>\n",
       "      <td>Current</td>\n",
       "      <td>2655.0</td>\n",
       "      <td>10</td>\n",
       "      <td>3</td>\n",
       "      <td>KIVIÕLI</td>\n",
       "      <td>EE</td>\n",
       "      <td>NaN</td>\n",
       "      <td>1980-07-13</td>\n",
       "      <td>25.40</td>\n",
       "      <td>4.0</td>\n",
       "      <td>...</td>\n",
       "      <td>3.0</td>\n",
       "      <td>True</td>\n",
       "      <td>0</td>\n",
       "      <td>17.0</td>\n",
       "      <td>2</td>\n",
       "      <td>4.0</td>\n",
       "      <td>5To10Years</td>\n",
       "      <td>0.1898</td>\n",
       "      <td>False</td>\n",
       "      <td>NaN</td>\n",
       "    </tr>\n",
       "  </tbody>\n",
       "</table>\n",
       "<p>5 rows × 31 columns</p>\n",
       "</div>"
      ],
      "text/plain": [
       "     Status  Amount  ApplicationSignedHour  ApplicationSignedWeekday     City  \\\n",
       "ID                                                                              \n",
       "0   Current  5000.0                     12                         4    AESPA   \n",
       "2    Repaid   530.0                     14                         2    PÄRNU   \n",
       "3   Current  5500.0                     22                         4  TALLINN   \n",
       "4    Repaid  6900.0                     15                         3   KEHTNA   \n",
       "5   Current  2655.0                     10                         3  KIVIÕLI   \n",
       "\n",
       "   Country CreditScoreEsEquifaxRisk DateOfBirth  DebtToIncome  Education  \\\n",
       "ID                                                                         \n",
       "0       EE                      NaN  1975-11-21         51.52        4.0   \n",
       "2       EE                      NaN  1969-10-25         30.32        4.0   \n",
       "3       EE                      NaN  1965-11-22         29.57        4.0   \n",
       "4       EE                      NaN  1983-12-05         45.75        2.0   \n",
       "5       EE                      NaN  1980-07-13         25.40        4.0   \n",
       "\n",
       "       ...     MaritalStatus NewCreditCustomer  NoOfPreviousLoansBeforeLoan  \\\n",
       "ID     ...                                                                    \n",
       "0      ...               4.0             False                            1   \n",
       "2      ...               1.0              True                            0   \n",
       "3      ...               4.0              True                            0   \n",
       "4      ...               3.0             False                            1   \n",
       "5      ...               3.0              True                            0   \n",
       "\n",
       "    OccupationArea  UseOfLoan  VerificationType   WorkExperience  \\\n",
       "ID                                                                 \n",
       "0              8.0          0               1.0      15To25Years   \n",
       "2              1.0          2               4.0      15To25Years   \n",
       "3             13.0          2               3.0  MoreThan25Years   \n",
       "4             19.0          7               4.0       5To10Years   \n",
       "5             17.0          2               4.0       5To10Years   \n",
       "\n",
       "    PreviousScore  Defaulted DefaultDate  \n",
       "ID                                        \n",
       "0          0.0957      False         NaN  \n",
       "2          0.1034      False         NaN  \n",
       "3          0.0772      False         NaN  \n",
       "4          0.0773      False         NaN  \n",
       "5          0.1898      False         NaN  \n",
       "\n",
       "[5 rows x 31 columns]"
      ]
     },
     "execution_count": 6,
     "metadata": {},
     "output_type": "execute_result"
    }
   ],
   "source": [
    "import pandas as pd\n",
    "%matplotlib inline\n",
    "import matplotlib.pyplot as plt\n",
    "from sklearn.linear_model import LinearRegression\n",
    "import numpy as np\n",
    "\n",
    "df1 = pd.read_csv('loans_data.csv', index_col=0)\n",
    "\n",
    "df1.head()"
   ]
  },
  {
   "cell_type": "code",
   "execution_count": 7,
   "metadata": {
    "scrolled": true
   },
   "outputs": [],
   "source": [
    "cols = list(df1)\n",
    "cols.insert(0, cols.pop(cols.index('LoanDate')))\n",
    "cols.insert(1, cols.pop(cols.index('Interest')))\n",
    "\n",
    "df1 = df1.ix[:, cols]\n",
    "df1 = df1.sort_values(by='LoanDate', ascending=False)\n",
    "#df = df.append(df.sum(numeric_only=True), ignore_index=True)\n",
    "\n",
    "df1.LoanDate = pd.to_datetime(df1['LoanDate'], format=\"%d/%m/%Y\")\n",
    "\n",
    "#Changes Boolean values (True/False) to binary values (True=1, False=0)\n",
    "df1['Defaulted'] = df1['Defaulted'].astype(int)\n",
    "\n",
    "#Fills empty cells with 0\n",
    "df1.fillna(value=0, inplace=True)\n",
    "\n",
    "#Sets LoanDate as index\n",
    "df2 = df1.set_index('LoanDate')\n",
    "\n",
    "#Calculates the monthly average values\n",
    "df3= df2.resample('M').mean()"
   ]
  },
  {
   "cell_type": "code",
   "execution_count": 8,
   "metadata": {},
   "outputs": [
    {
     "data": {
      "image/png": "[encoded data removed]",
      "text/plain": [
       "<matplotlib.figure.Figure at 0x10ae20b70>"
      ]
     },
     "metadata": {},
     "output_type": "display_data"
    }
   ],
   "source": [
    "x = np.array(df3.index.tolist()) \n",
    "y = np.array(df3.Defaulted.tolist(), dtype=np.float) \n",
    "\n",
    "fig = plt.figure(figsize=(10, 8))\n",
    "plt.scatter(x,y)\n",
    "\n",
    "fig.suptitle(' ', fontsize=14)\n",
    "plt.xlabel('Loan Date', fontsize=12)\n",
    "plt.ylabel('Defaulted', fontsize=12)\n",
    "\n",
    "plt.show()"
   ]
  },
  {
   "cell_type": "code",
   "execution_count": 9,
   "metadata": {},
   "outputs": [
    {
     "data": {
      "text/html": [
       "<div>\n",
       "<table border=\"1\" class=\"dataframe\">\n",
       "  <thead>\n",
       "    <tr style=\"text-align: right;\">\n",
       "      <th></th>\n",
       "      <th>Interest</th>\n",
       "      <th>Status</th>\n",
       "      <th>Amount</th>\n",
       "      <th>ApplicationSignedHour</th>\n",
       "      <th>ApplicationSignedWeekday</th>\n",
       "      <th>City</th>\n",
       "      <th>Country</th>\n",
       "      <th>CreditScoreEsEquifaxRisk</th>\n",
       "      <th>DateOfBirth</th>\n",
       "      <th>DebtToIncome</th>\n",
       "      <th>...</th>\n",
       "      <th>MaritalStatus</th>\n",
       "      <th>NewCreditCustomer</th>\n",
       "      <th>NoOfPreviousLoansBeforeLoan</th>\n",
       "      <th>OccupationArea</th>\n",
       "      <th>UseOfLoan</th>\n",
       "      <th>VerificationType</th>\n",
       "      <th>WorkExperience</th>\n",
       "      <th>PreviousScore</th>\n",
       "      <th>Defaulted</th>\n",
       "      <th>DefaultDate</th>\n",
       "    </tr>\n",
       "    <tr>\n",
       "      <th>LoanDate</th>\n",
       "      <th></th>\n",
       "      <th></th>\n",
       "      <th></th>\n",
       "      <th></th>\n",
       "      <th></th>\n",
       "      <th></th>\n",
       "      <th></th>\n",
       "      <th></th>\n",
       "      <th></th>\n",
       "      <th></th>\n",
       "      <th></th>\n",
       "      <th></th>\n",
       "      <th></th>\n",
       "      <th></th>\n",
       "      <th></th>\n",
       "      <th></th>\n",
       "      <th></th>\n",
       "      <th></th>\n",
       "      <th></th>\n",
       "      <th></th>\n",
       "      <th></th>\n",
       "    </tr>\n",
       "  </thead>\n",
       "  <tbody>\n",
       "    <tr>\n",
       "      <th>2017-04-13</th>\n",
       "      <td>16.58</td>\n",
       "      <td>Current</td>\n",
       "      <td>2335.0</td>\n",
       "      <td>17</td>\n",
       "      <td>5</td>\n",
       "      <td>Haapsalu linn</td>\n",
       "      <td>EE</td>\n",
       "      <td>0</td>\n",
       "      <td>1991-07-10</td>\n",
       "      <td>54.00</td>\n",
       "      <td>...</td>\n",
       "      <td>1.0</td>\n",
       "      <td>True</td>\n",
       "      <td>0</td>\n",
       "      <td>1.0</td>\n",
       "      <td>0</td>\n",
       "      <td>4.0</td>\n",
       "      <td>LessThan2Years</td>\n",
       "      <td>0.1074</td>\n",
       "      <td>0</td>\n",
       "      <td>0</td>\n",
       "    </tr>\n",
       "    <tr>\n",
       "      <th>2013-02-22</th>\n",
       "      <td>28.00</td>\n",
       "      <td>Late</td>\n",
       "      <td>1400.0</td>\n",
       "      <td>13</td>\n",
       "      <td>6</td>\n",
       "      <td>TARTU</td>\n",
       "      <td>EE</td>\n",
       "      <td>0</td>\n",
       "      <td>1978-10-29</td>\n",
       "      <td>0.00</td>\n",
       "      <td>...</td>\n",
       "      <td>3.0</td>\n",
       "      <td>True</td>\n",
       "      <td>0</td>\n",
       "      <td>6.0</td>\n",
       "      <td>7</td>\n",
       "      <td>4.0</td>\n",
       "      <td>LessThan2Years</td>\n",
       "      <td>0.0619</td>\n",
       "      <td>1</td>\n",
       "      <td>2013-06-26</td>\n",
       "    </tr>\n",
       "    <tr>\n",
       "      <th>2016-11-28</th>\n",
       "      <td>32.04</td>\n",
       "      <td>Current</td>\n",
       "      <td>530.0</td>\n",
       "      <td>14</td>\n",
       "      <td>2</td>\n",
       "      <td>AHJA VALD</td>\n",
       "      <td>EE</td>\n",
       "      <td>0</td>\n",
       "      <td>1985-01-21</td>\n",
       "      <td>11.25</td>\n",
       "      <td>...</td>\n",
       "      <td>3.0</td>\n",
       "      <td>False</td>\n",
       "      <td>1</td>\n",
       "      <td>3.0</td>\n",
       "      <td>7</td>\n",
       "      <td>1.0</td>\n",
       "      <td>5To10Years</td>\n",
       "      <td>0.2311</td>\n",
       "      <td>0</td>\n",
       "      <td>0</td>\n",
       "    </tr>\n",
       "    <tr>\n",
       "      <th>2016-07-04</th>\n",
       "      <td>25.78</td>\n",
       "      <td>Current</td>\n",
       "      <td>4780.0</td>\n",
       "      <td>9</td>\n",
       "      <td>2</td>\n",
       "      <td>TALLINN</td>\n",
       "      <td>EE</td>\n",
       "      <td>0</td>\n",
       "      <td>1987-11-16</td>\n",
       "      <td>40.60</td>\n",
       "      <td>...</td>\n",
       "      <td>1.0</td>\n",
       "      <td>True</td>\n",
       "      <td>0</td>\n",
       "      <td>9.0</td>\n",
       "      <td>7</td>\n",
       "      <td>4.0</td>\n",
       "      <td>2To5Years</td>\n",
       "      <td>0.1970</td>\n",
       "      <td>0</td>\n",
       "      <td>0</td>\n",
       "    </tr>\n",
       "    <tr>\n",
       "      <th>2015-05-11</th>\n",
       "      <td>40.40</td>\n",
       "      <td>Repaid</td>\n",
       "      <td>700.0</td>\n",
       "      <td>20</td>\n",
       "      <td>6</td>\n",
       "      <td>SANTA CRUZ DE TENERIFE</td>\n",
       "      <td>ES</td>\n",
       "      <td>B</td>\n",
       "      <td>1985-02-07</td>\n",
       "      <td>25.30</td>\n",
       "      <td>...</td>\n",
       "      <td>3.0</td>\n",
       "      <td>True</td>\n",
       "      <td>0</td>\n",
       "      <td>8.0</td>\n",
       "      <td>7</td>\n",
       "      <td>3.0</td>\n",
       "      <td>10To15Years</td>\n",
       "      <td>0.1887</td>\n",
       "      <td>0</td>\n",
       "      <td>0</td>\n",
       "    </tr>\n",
       "  </tbody>\n",
       "</table>\n",
       "<p>5 rows × 30 columns</p>\n",
       "</div>"
      ],
      "text/plain": [
       "            Interest   Status  Amount  ApplicationSignedHour  \\\n",
       "LoanDate                                                       \n",
       "2017-04-13     16.58  Current  2335.0                     17   \n",
       "2013-02-22     28.00     Late  1400.0                     13   \n",
       "2016-11-28     32.04  Current   530.0                     14   \n",
       "2016-07-04     25.78  Current  4780.0                      9   \n",
       "2015-05-11     40.40   Repaid   700.0                     20   \n",
       "\n",
       "            ApplicationSignedWeekday                    City Country  \\\n",
       "LoanDate                                                               \n",
       "2017-04-13                         5           Haapsalu linn      EE   \n",
       "2013-02-22                         6                   TARTU      EE   \n",
       "2016-11-28                         2               AHJA VALD      EE   \n",
       "2016-07-04                         2                 TALLINN      EE   \n",
       "2015-05-11                         6  SANTA CRUZ DE TENERIFE      ES   \n",
       "\n",
       "           CreditScoreEsEquifaxRisk DateOfBirth  DebtToIncome     ...       \\\n",
       "LoanDate                                                          ...        \n",
       "2017-04-13                        0  1991-07-10         54.00     ...        \n",
       "2013-02-22                        0  1978-10-29          0.00     ...        \n",
       "2016-11-28                        0  1985-01-21         11.25     ...        \n",
       "2016-07-04                        0  1987-11-16         40.60     ...        \n",
       "2015-05-11                        B  1985-02-07         25.30     ...        \n",
       "\n",
       "            MaritalStatus NewCreditCustomer NoOfPreviousLoansBeforeLoan  \\\n",
       "LoanDate                                                                  \n",
       "2017-04-13            1.0              True                           0   \n",
       "2013-02-22            3.0              True                           0   \n",
       "2016-11-28            3.0             False                           1   \n",
       "2016-07-04            1.0              True                           0   \n",
       "2015-05-11            3.0              True                           0   \n",
       "\n",
       "            OccupationArea  UseOfLoan  VerificationType  WorkExperience  \\\n",
       "LoanDate                                                                  \n",
       "2017-04-13             1.0          0               4.0  LessThan2Years   \n",
       "2013-02-22             6.0          7               4.0  LessThan2Years   \n",
       "2016-11-28             3.0          7               1.0      5To10Years   \n",
       "2016-07-04             9.0          7               4.0       2To5Years   \n",
       "2015-05-11             8.0          7               3.0     10To15Years   \n",
       "\n",
       "            PreviousScore  Defaulted  DefaultDate  \n",
       "LoanDate                                           \n",
       "2017-04-13         0.1074          0            0  \n",
       "2013-02-22         0.0619          1   2013-06-26  \n",
       "2016-11-28         0.2311          0            0  \n",
       "2016-07-04         0.1970          0            0  \n",
       "2015-05-11         0.1887          0            0  \n",
       "\n",
       "[5 rows x 30 columns]"
      ]
     },
     "execution_count": 9,
     "metadata": {},
     "output_type": "execute_result"
    }
   ],
   "source": [
    "#Sampling: \n",
    "# separate Testdata and Validation\n",
    "df_07 = df2.sample(frac=0.7)\n",
    "df_rest = df2.loc[~df2.index.isin(df_07.index)]\n",
    "df_07.head()"
   ]
  },
  {
   "cell_type": "markdown",
   "metadata": {},
   "source": [
    "### Frequency of Loans"
   ]
  },
  {
   "cell_type": "code",
   "execution_count": 10,
   "metadata": {},
   "outputs": [
    {
     "data": {
      "image/png": "[encoded data removed]",
      "text/plain": [
       "<matplotlib.figure.Figure at 0x109bd9da0>"
      ]
     },
     "metadata": {},
     "output_type": "display_data"
    }
   ],
   "source": [
    "co = df1.Interest\n",
    "#print (co)\n",
    "fig = plt.figure(figsize=(10, 8))\n",
    "co.plot.hist(stacked=True, bins=70)\n",
    "plt.xlabel('Interest (BP)', fontsize=12)\n",
    "plt.show()"
   ]
  },
  {
   "cell_type": "code",
   "execution_count": 16,
   "metadata": {},
   "outputs": [
    {
     "data": {
      "text/plain": [
       "<matplotlib.text.Text at 0x10a2daba8>"
      ]
     },
     "execution_count": 16,
     "metadata": {},
     "output_type": "execute_result"
    },
    {
     "data": {
      "image/png": "[encoded data removed]",
      "text/plain": [
       "<matplotlib.figure.Figure at 0x10c5a7c18>"
      ]
     },
     "metadata": {},
     "output_type": "display_data"
    }
   ],
   "source": [
    "#Scatterplot comparing interest rates and loan amount\n",
    "plt.scatter(df2.Amount, df2.Interest)\n",
    "plt.xlabel('Amount')\n",
    "plt.ylabel('Interest')"
   ]
  },
  {
   "cell_type": "markdown",
   "metadata": {},
   "source": [
    "--> Seemingly very weak correlation"
   ]
  },
  {
   "cell_type": "code",
   "execution_count": 20,
   "metadata": {},
   "outputs": [
    {
     "data": {
      "text/plain": [
       "LinearRegression(copy_X=True, fit_intercept=True, n_jobs=1, normalize=False)"
      ]
     },
     "execution_count": 20,
     "metadata": {},
     "output_type": "execute_result"
    }
   ],
   "source": [
    "# fit a linear regression model\n",
    "\n",
    "linreg = LinearRegression()\n",
    "feature_cols = ['Amount']\n",
    "X = df2[feature_cols]\n",
    "y = df2.Interest\n",
    "linreg.fit(X, y)"
   ]
  },
  {
   "cell_type": "code",
   "execution_count": 21,
   "metadata": {},
   "outputs": [
    {
     "data": {
      "text/html": [
       "<div>\n",
       "<table border=\"1\" class=\"dataframe\">\n",
       "  <thead>\n",
       "    <tr style=\"text-align: right;\">\n",
       "      <th></th>\n",
       "      <th>Interest</th>\n",
       "      <th>Status</th>\n",
       "      <th>Amount</th>\n",
       "      <th>ApplicationSignedHour</th>\n",
       "      <th>ApplicationSignedWeekday</th>\n",
       "      <th>City</th>\n",
       "      <th>Country</th>\n",
       "      <th>CreditScoreEsEquifaxRisk</th>\n",
       "      <th>DateOfBirth</th>\n",
       "      <th>DebtToIncome</th>\n",
       "      <th>...</th>\n",
       "      <th>NewCreditCustomer</th>\n",
       "      <th>NoOfPreviousLoansBeforeLoan</th>\n",
       "      <th>OccupationArea</th>\n",
       "      <th>UseOfLoan</th>\n",
       "      <th>VerificationType</th>\n",
       "      <th>WorkExperience</th>\n",
       "      <th>PreviousScore</th>\n",
       "      <th>Defaulted</th>\n",
       "      <th>DefaultDate</th>\n",
       "      <th>Amount_pred</th>\n",
       "    </tr>\n",
       "    <tr>\n",
       "      <th>LoanDate</th>\n",
       "      <th></th>\n",
       "      <th></th>\n",
       "      <th></th>\n",
       "      <th></th>\n",
       "      <th></th>\n",
       "      <th></th>\n",
       "      <th></th>\n",
       "      <th></th>\n",
       "      <th></th>\n",
       "      <th></th>\n",
       "      <th></th>\n",
       "      <th></th>\n",
       "      <th></th>\n",
       "      <th></th>\n",
       "      <th></th>\n",
       "      <th></th>\n",
       "      <th></th>\n",
       "      <th></th>\n",
       "      <th></th>\n",
       "      <th></th>\n",
       "      <th></th>\n",
       "    </tr>\n",
       "  </thead>\n",
       "  <tbody>\n",
       "    <tr>\n",
       "      <th>2016-12-31</th>\n",
       "      <td>29.37</td>\n",
       "      <td>Current</td>\n",
       "      <td>740.0</td>\n",
       "      <td>21</td>\n",
       "      <td>6</td>\n",
       "      <td>Mõniste vald</td>\n",
       "      <td>EE</td>\n",
       "      <td>0</td>\n",
       "      <td>1995-04-08</td>\n",
       "      <td>10.68</td>\n",
       "      <td>...</td>\n",
       "      <td>True</td>\n",
       "      <td>0</td>\n",
       "      <td>17.0</td>\n",
       "      <td>2</td>\n",
       "      <td>4.0</td>\n",
       "      <td>2To5Years</td>\n",
       "      <td>0.2021</td>\n",
       "      <td>0</td>\n",
       "      <td>0</td>\n",
       "      <td>37.072165</td>\n",
       "    </tr>\n",
       "    <tr>\n",
       "      <th>2016-12-31</th>\n",
       "      <td>24.43</td>\n",
       "      <td>Current</td>\n",
       "      <td>1060.0</td>\n",
       "      <td>2</td>\n",
       "      <td>7</td>\n",
       "      <td>Rae vald</td>\n",
       "      <td>EE</td>\n",
       "      <td>0</td>\n",
       "      <td>1986-04-15</td>\n",
       "      <td>12.75</td>\n",
       "      <td>...</td>\n",
       "      <td>False</td>\n",
       "      <td>1</td>\n",
       "      <td>10.0</td>\n",
       "      <td>6</td>\n",
       "      <td>3.0</td>\n",
       "      <td>10To15Years</td>\n",
       "      <td>0.1808</td>\n",
       "      <td>0</td>\n",
       "      <td>0</td>\n",
       "      <td>36.619039</td>\n",
       "    </tr>\n",
       "    <tr>\n",
       "      <th>2016-12-31</th>\n",
       "      <td>21.87</td>\n",
       "      <td>Current</td>\n",
       "      <td>5315.0</td>\n",
       "      <td>14</td>\n",
       "      <td>7</td>\n",
       "      <td>Paide</td>\n",
       "      <td>EE</td>\n",
       "      <td>0</td>\n",
       "      <td>1991-04-22</td>\n",
       "      <td>39.85</td>\n",
       "      <td>...</td>\n",
       "      <td>False</td>\n",
       "      <td>3</td>\n",
       "      <td>3.0</td>\n",
       "      <td>2</td>\n",
       "      <td>3.0</td>\n",
       "      <td>5To10Years</td>\n",
       "      <td>0.1700</td>\n",
       "      <td>0</td>\n",
       "      <td>0</td>\n",
       "      <td>30.593889</td>\n",
       "    </tr>\n",
       "    <tr>\n",
       "      <th>2016-12-31</th>\n",
       "      <td>87.73</td>\n",
       "      <td>Late</td>\n",
       "      <td>1865.0</td>\n",
       "      <td>12</td>\n",
       "      <td>7</td>\n",
       "      <td>Benissa</td>\n",
       "      <td>ES</td>\n",
       "      <td>B</td>\n",
       "      <td>1990-03-09</td>\n",
       "      <td>10.38</td>\n",
       "      <td>...</td>\n",
       "      <td>True</td>\n",
       "      <td>0</td>\n",
       "      <td>7.0</td>\n",
       "      <td>1</td>\n",
       "      <td>1.0</td>\n",
       "      <td>5To10Years</td>\n",
       "      <td>0.4846</td>\n",
       "      <td>0</td>\n",
       "      <td>0</td>\n",
       "      <td>35.479146</td>\n",
       "    </tr>\n",
       "    <tr>\n",
       "      <th>2016-12-31</th>\n",
       "      <td>13.99</td>\n",
       "      <td>Current</td>\n",
       "      <td>530.0</td>\n",
       "      <td>12</td>\n",
       "      <td>7</td>\n",
       "      <td>Tallinn</td>\n",
       "      <td>EE</td>\n",
       "      <td>0</td>\n",
       "      <td>1992-06-25</td>\n",
       "      <td>51.14</td>\n",
       "      <td>...</td>\n",
       "      <td>False</td>\n",
       "      <td>1</td>\n",
       "      <td>1.0</td>\n",
       "      <td>7</td>\n",
       "      <td>4.0</td>\n",
       "      <td>LessThan2Years</td>\n",
       "      <td>0.0785</td>\n",
       "      <td>0</td>\n",
       "      <td>0</td>\n",
       "      <td>37.369528</td>\n",
       "    </tr>\n",
       "  </tbody>\n",
       "</table>\n",
       "<p>5 rows × 31 columns</p>\n",
       "</div>"
      ],
      "text/plain": [
       "            Interest   Status  Amount  ApplicationSignedHour  \\\n",
       "LoanDate                                                       \n",
       "2016-12-31     29.37  Current   740.0                     21   \n",
       "2016-12-31     24.43  Current  1060.0                      2   \n",
       "2016-12-31     21.87  Current  5315.0                     14   \n",
       "2016-12-31     87.73     Late  1865.0                     12   \n",
       "2016-12-31     13.99  Current   530.0                     12   \n",
       "\n",
       "            ApplicationSignedWeekday          City Country  \\\n",
       "LoanDate                                                     \n",
       "2016-12-31                         6  Mõniste vald      EE   \n",
       "2016-12-31                         7      Rae vald      EE   \n",
       "2016-12-31                         7         Paide      EE   \n",
       "2016-12-31                         7       Benissa      ES   \n",
       "2016-12-31                         7       Tallinn      EE   \n",
       "\n",
       "           CreditScoreEsEquifaxRisk DateOfBirth  DebtToIncome     ...       \\\n",
       "LoanDate                                                          ...        \n",
       "2016-12-31                        0  1995-04-08         10.68     ...        \n",
       "2016-12-31                        0  1986-04-15         12.75     ...        \n",
       "2016-12-31                        0  1991-04-22         39.85     ...        \n",
       "2016-12-31                        B  1990-03-09         10.38     ...        \n",
       "2016-12-31                        0  1992-06-25         51.14     ...        \n",
       "\n",
       "            NewCreditCustomer NoOfPreviousLoansBeforeLoan OccupationArea  \\\n",
       "LoanDate                                                                   \n",
       "2016-12-31               True                           0           17.0   \n",
       "2016-12-31              False                           1           10.0   \n",
       "2016-12-31              False                           3            3.0   \n",
       "2016-12-31               True                           0            7.0   \n",
       "2016-12-31              False                           1            1.0   \n",
       "\n",
       "            UseOfLoan  VerificationType  WorkExperience  PreviousScore  \\\n",
       "LoanDate                                                                 \n",
       "2016-12-31          2               4.0       2To5Years         0.2021   \n",
       "2016-12-31          6               3.0     10To15Years         0.1808   \n",
       "2016-12-31          2               3.0      5To10Years         0.1700   \n",
       "2016-12-31          1               1.0      5To10Years         0.4846   \n",
       "2016-12-31          7               4.0  LessThan2Years         0.0785   \n",
       "\n",
       "            Defaulted  DefaultDate  Amount_pred  \n",
       "LoanDate                                         \n",
       "2016-12-31          0            0    37.072165  \n",
       "2016-12-31          0            0    36.619039  \n",
       "2016-12-31          0            0    30.593889  \n",
       "2016-12-31          0            0    35.479146  \n",
       "2016-12-31          0            0    37.369528  \n",
       "\n",
       "[5 rows x 31 columns]"
      ]
     },
     "execution_count": 21,
     "metadata": {},
     "output_type": "execute_result"
    }
   ],
   "source": [
    "## make predictions for all values of X\n",
    "df2['Amount_pred'] = linreg.predict(X)\n",
    "df2.head()"
   ]
  },
  {
   "cell_type": "code",
   "execution_count": 22,
   "metadata": {},
   "outputs": [
    {
     "data": {
      "text/plain": [
       "<matplotlib.text.Text at 0x10c5d6c50>"
      ]
     },
     "execution_count": 22,
     "metadata": {},
     "output_type": "execute_result"
    },
    {
     "data": {
      "image/png": "[encoded data removed]",
      "text/plain": [
       "<matplotlib.figure.Figure at 0x10d7d5908>"
      ]
     },
     "metadata": {},
     "output_type": "display_data"
    }
   ],
   "source": [
    "# put the plots together\n",
    "plt.scatter(df2.Amount, df2.Interest)\n",
    "plt.plot(df2.Amount, df2.Amount_pred, color='red')\n",
    "plt.xlabel('Amount')\n",
    "plt.ylabel('Interest')"
   ]
  },
  {
   "cell_type": "markdown",
   "metadata": {},
   "source": [
    "### Interpretation of linear regression coefficients"
   ]
  },
  {
   "cell_type": "markdown",
   "metadata": {},
   "source": [
    "Linear regression equation: $y = \\beta_0 + \\beta_1x$"
   ]
  },
  {
   "cell_type": "code",
   "execution_count": 23,
   "metadata": {},
   "outputs": [
    {
     "data": {
      "text/plain": [
       "array([ 38.1171849])"
      ]
     },
     "execution_count": 23,
     "metadata": {},
     "output_type": "execute_result"
    }
   ],
   "source": [
    "# compute prediction for al=2 using the equation\n",
    "linreg.intercept_ + linreg.coef_ * 2"
   ]
  },
  {
   "cell_type": "code",
   "execution_count": 24,
   "metadata": {},
   "outputs": [
    {
     "data": {
      "text/plain": [
       "array([ 38.1171849])"
      ]
     },
     "execution_count": 24,
     "metadata": {},
     "output_type": "execute_result"
    }
   ],
   "source": [
    "# compute prediction for al=2 using the predict method\n",
    "linreg.predict(2)"
   ]
  },
  {
   "cell_type": "code",
   "execution_count": 25,
   "metadata": {},
   "outputs": [
    {
     "name": "stdout",
     "output_type": "stream",
     "text": [
      "['Amount'] [-0.00141602]\n"
     ]
    }
   ],
   "source": [
    "# examine coefficient for al\n",
    "print(feature_cols, linreg.coef_)"
   ]
  },
  {
   "cell_type": "markdown",
   "metadata": {},
   "source": [
    "**Interpretation:** A 1 unit increase in 'Amount' is associated with a -0.0014 unit decrease in 'Interest'."
   ]
  },
  {
   "cell_type": "code",
   "execution_count": 26,
   "metadata": {},
   "outputs": [
    {
     "data": {
      "text/plain": [
       "1.5145125136125304"
      ]
     },
     "execution_count": 26,
     "metadata": {},
     "output_type": "execute_result"
    }
   ],
   "source": [
    "# increasing al by 1 (so that al=3) decreases ri by 0.0025\n",
    "1.51699012 - 0.0024776063874696243"
   ]
  },
  {
   "cell_type": "code",
   "execution_count": 27,
   "metadata": {},
   "outputs": [
    {
     "data": {
      "text/plain": [
       "array([ 38.11576888])"
      ]
     },
     "execution_count": 27,
     "metadata": {},
     "output_type": "execute_result"
    }
   ],
   "source": [
    "# compute prediction for al=3 using the predict method\n",
    "linreg.predict(3)"
   ]
  },
  {
   "cell_type": "markdown",
   "metadata": {},
   "source": [
    "# Predicting a Categorical Response (Loan Defaults)"
   ]
  },
  {
   "cell_type": "code",
   "execution_count": 131,
   "metadata": {},
   "outputs": [
    {
     "data": {
      "text/plain": [
       "0    18637\n",
       "1     9280\n",
       "Name: Defaulted, dtype: int64"
      ]
     },
     "execution_count": 131,
     "metadata": {},
     "output_type": "execute_result"
    }
   ],
   "source": [
    "# examine datafra,e (df2)\n",
    "df1.Defaulted.value_counts().sort_index()"
   ]
  },
  {
   "cell_type": "markdown",
   "metadata": {},
   "source": [
    "**18,637** have not defaulted, **9280** have defaulted"
   ]
  },
  {
   "cell_type": "code",
   "execution_count": 132,
   "metadata": {
    "scrolled": true
   },
   "outputs": [
    {
     "data": {
      "text/html": [
       "<div>\n",
       "<table border=\"1\" class=\"dataframe\">\n",
       "  <thead>\n",
       "    <tr style=\"text-align: right;\">\n",
       "      <th></th>\n",
       "      <th>LoanDate</th>\n",
       "      <th>Interest</th>\n",
       "      <th>Status</th>\n",
       "      <th>Amount</th>\n",
       "      <th>ApplicationSignedHour</th>\n",
       "      <th>ApplicationSignedWeekday</th>\n",
       "      <th>City</th>\n",
       "      <th>Country</th>\n",
       "      <th>CreditScoreEsEquifaxRisk</th>\n",
       "      <th>DateOfBirth</th>\n",
       "      <th>...</th>\n",
       "      <th>OccupationArea</th>\n",
       "      <th>UseOfLoan</th>\n",
       "      <th>VerificationType</th>\n",
       "      <th>WorkExperience</th>\n",
       "      <th>PreviousScore</th>\n",
       "      <th>Defaulted</th>\n",
       "      <th>DefaultDate</th>\n",
       "      <th>Defaulted_pred</th>\n",
       "      <th>Defaulted_pred_class</th>\n",
       "      <th>Defaulted_pred_prop</th>\n",
       "    </tr>\n",
       "    <tr>\n",
       "      <th>ID</th>\n",
       "      <th></th>\n",
       "      <th></th>\n",
       "      <th></th>\n",
       "      <th></th>\n",
       "      <th></th>\n",
       "      <th></th>\n",
       "      <th></th>\n",
       "      <th></th>\n",
       "      <th></th>\n",
       "      <th></th>\n",
       "      <th></th>\n",
       "      <th></th>\n",
       "      <th></th>\n",
       "      <th></th>\n",
       "      <th></th>\n",
       "      <th></th>\n",
       "      <th></th>\n",
       "      <th></th>\n",
       "      <th></th>\n",
       "      <th></th>\n",
       "      <th></th>\n",
       "    </tr>\n",
       "  </thead>\n",
       "  <tbody>\n",
       "    <tr>\n",
       "      <th>30703</th>\n",
       "      <td>2016-12-31</td>\n",
       "      <td>29.37</td>\n",
       "      <td>Current</td>\n",
       "      <td>740.0</td>\n",
       "      <td>21</td>\n",
       "      <td>6</td>\n",
       "      <td>Mõniste vald</td>\n",
       "      <td>EE</td>\n",
       "      <td>0</td>\n",
       "      <td>1995-04-08</td>\n",
       "      <td>...</td>\n",
       "      <td>17.0</td>\n",
       "      <td>2</td>\n",
       "      <td>4.0</td>\n",
       "      <td>2To5Years</td>\n",
       "      <td>0.2021</td>\n",
       "      <td>0</td>\n",
       "      <td>0</td>\n",
       "      <td>0.327682</td>\n",
       "      <td>0</td>\n",
       "      <td>0.321684</td>\n",
       "    </tr>\n",
       "    <tr>\n",
       "      <th>30706</th>\n",
       "      <td>2016-12-31</td>\n",
       "      <td>24.43</td>\n",
       "      <td>Current</td>\n",
       "      <td>1060.0</td>\n",
       "      <td>2</td>\n",
       "      <td>7</td>\n",
       "      <td>Rae vald</td>\n",
       "      <td>EE</td>\n",
       "      <td>0</td>\n",
       "      <td>1986-04-15</td>\n",
       "      <td>...</td>\n",
       "      <td>10.0</td>\n",
       "      <td>6</td>\n",
       "      <td>3.0</td>\n",
       "      <td>10To15Years</td>\n",
       "      <td>0.1808</td>\n",
       "      <td>0</td>\n",
       "      <td>0</td>\n",
       "      <td>0.315378</td>\n",
       "      <td>0</td>\n",
       "      <td>0.310006</td>\n",
       "    </tr>\n",
       "    <tr>\n",
       "      <th>30714</th>\n",
       "      <td>2016-12-31</td>\n",
       "      <td>21.87</td>\n",
       "      <td>Current</td>\n",
       "      <td>5315.0</td>\n",
       "      <td>14</td>\n",
       "      <td>7</td>\n",
       "      <td>Paide</td>\n",
       "      <td>EE</td>\n",
       "      <td>0</td>\n",
       "      <td>1991-04-22</td>\n",
       "      <td>...</td>\n",
       "      <td>3.0</td>\n",
       "      <td>2</td>\n",
       "      <td>3.0</td>\n",
       "      <td>5To10Years</td>\n",
       "      <td>0.1700</td>\n",
       "      <td>0</td>\n",
       "      <td>0</td>\n",
       "      <td>0.309139</td>\n",
       "      <td>0</td>\n",
       "      <td>0.304175</td>\n",
       "    </tr>\n",
       "    <tr>\n",
       "      <th>30713</th>\n",
       "      <td>2016-12-31</td>\n",
       "      <td>87.73</td>\n",
       "      <td>Late</td>\n",
       "      <td>1865.0</td>\n",
       "      <td>12</td>\n",
       "      <td>7</td>\n",
       "      <td>Benissa</td>\n",
       "      <td>ES</td>\n",
       "      <td>B</td>\n",
       "      <td>1990-03-09</td>\n",
       "      <td>...</td>\n",
       "      <td>7.0</td>\n",
       "      <td>1</td>\n",
       "      <td>1.0</td>\n",
       "      <td>5To10Years</td>\n",
       "      <td>0.4846</td>\n",
       "      <td>0</td>\n",
       "      <td>0</td>\n",
       "      <td>0.490880</td>\n",
       "      <td>0</td>\n",
       "      <td>0.492695</td>\n",
       "    </tr>\n",
       "    <tr>\n",
       "      <th>30712</th>\n",
       "      <td>2016-12-31</td>\n",
       "      <td>13.99</td>\n",
       "      <td>Current</td>\n",
       "      <td>530.0</td>\n",
       "      <td>12</td>\n",
       "      <td>7</td>\n",
       "      <td>Tallinn</td>\n",
       "      <td>EE</td>\n",
       "      <td>0</td>\n",
       "      <td>1992-06-25</td>\n",
       "      <td>...</td>\n",
       "      <td>1.0</td>\n",
       "      <td>7</td>\n",
       "      <td>4.0</td>\n",
       "      <td>LessThan2Years</td>\n",
       "      <td>0.0785</td>\n",
       "      <td>0</td>\n",
       "      <td>0</td>\n",
       "      <td>0.256280</td>\n",
       "      <td>0</td>\n",
       "      <td>0.257372</td>\n",
       "    </tr>\n",
       "  </tbody>\n",
       "</table>\n",
       "<p>5 rows × 34 columns</p>\n",
       "</div>"
      ],
      "text/plain": [
       "        LoanDate  Interest   Status  Amount  ApplicationSignedHour  \\\n",
       "ID                                                                   \n",
       "30703 2016-12-31     29.37  Current   740.0                     21   \n",
       "30706 2016-12-31     24.43  Current  1060.0                      2   \n",
       "30714 2016-12-31     21.87  Current  5315.0                     14   \n",
       "30713 2016-12-31     87.73     Late  1865.0                     12   \n",
       "30712 2016-12-31     13.99  Current   530.0                     12   \n",
       "\n",
       "       ApplicationSignedWeekday          City Country  \\\n",
       "ID                                                      \n",
       "30703                         6  Mõniste vald      EE   \n",
       "30706                         7      Rae vald      EE   \n",
       "30714                         7         Paide      EE   \n",
       "30713                         7       Benissa      ES   \n",
       "30712                         7       Tallinn      EE   \n",
       "\n",
       "      CreditScoreEsEquifaxRisk DateOfBirth         ...           \\\n",
       "ID                                                 ...            \n",
       "30703                        0  1995-04-08         ...            \n",
       "30706                        0  1986-04-15         ...            \n",
       "30714                        0  1991-04-22         ...            \n",
       "30713                        B  1990-03-09         ...            \n",
       "30712                        0  1992-06-25         ...            \n",
       "\n",
       "       OccupationArea  UseOfLoan VerificationType  WorkExperience  \\\n",
       "ID                                                                  \n",
       "30703            17.0          2              4.0       2To5Years   \n",
       "30706            10.0          6              3.0     10To15Years   \n",
       "30714             3.0          2              3.0      5To10Years   \n",
       "30713             7.0          1              1.0      5To10Years   \n",
       "30712             1.0          7              4.0  LessThan2Years   \n",
       "\n",
       "       PreviousScore  Defaulted  DefaultDate  Defaulted_pred  \\\n",
       "ID                                                             \n",
       "30703         0.2021          0            0        0.327682   \n",
       "30706         0.1808          0            0        0.315378   \n",
       "30714         0.1700          0            0        0.309139   \n",
       "30713         0.4846          0            0        0.490880   \n",
       "30712         0.0785          0            0        0.256280   \n",
       "\n",
       "       Defaulted_pred_class  Defaulted_pred_prop  \n",
       "ID                                                \n",
       "30703                     0             0.321684  \n",
       "30706                     0             0.310006  \n",
       "30714                     0             0.304175  \n",
       "30713                     0             0.492695  \n",
       "30712                     0             0.257372  \n",
       "\n",
       "[5 rows x 34 columns]"
      ]
     },
     "execution_count": 132,
     "metadata": {},
     "output_type": "execute_result"
    }
   ],
   "source": [
    "#df1 will be used again to compare the default rates of customers \n",
    "df1.head()"
   ]
  },
  {
   "cell_type": "code",
   "execution_count": 37,
   "metadata": {},
   "outputs": [
    {
     "data": {
      "image/png": "[encoded data removed]",
      "text/plain": [
       "<matplotlib.figure.Figure at 0x10f357748>"
      ]
     },
     "metadata": {},
     "output_type": "display_data"
    }
   ],
   "source": [
    "#Plotting the values\n",
    "x = np.array(df1.PreviousScore.tolist()) \n",
    "y = np.array(df1.Defaulted.tolist(), dtype=np.float) \n",
    "\n",
    "fig = plt.figure(figsize=(10, 8))\n",
    "plt.scatter(x,y)\n",
    "\n",
    "fig.suptitle('Scatter plot', fontsize=14)\n",
    "plt.xlabel('PreviousScore', fontsize=12)\n",
    "plt.ylabel('Defaulted', fontsize=12)\n",
    "\n",
    "plt.show()"
   ]
  },
  {
   "cell_type": "markdown",
   "metadata": {},
   "source": [
    "Let's draw a **regression line**, like we did before:"
   ]
  },
  {
   "cell_type": "code",
   "execution_count": 44,
   "metadata": {},
   "outputs": [
    {
     "data": {
      "text/html": [
       "<div>\n",
       "<table border=\"1\" class=\"dataframe\">\n",
       "  <thead>\n",
       "    <tr style=\"text-align: right;\">\n",
       "      <th></th>\n",
       "      <th>LoanDate</th>\n",
       "      <th>Interest</th>\n",
       "      <th>Status</th>\n",
       "      <th>Amount</th>\n",
       "      <th>ApplicationSignedHour</th>\n",
       "      <th>ApplicationSignedWeekday</th>\n",
       "      <th>City</th>\n",
       "      <th>Country</th>\n",
       "      <th>CreditScoreEsEquifaxRisk</th>\n",
       "      <th>DateOfBirth</th>\n",
       "      <th>...</th>\n",
       "      <th>NewCreditCustomer</th>\n",
       "      <th>NoOfPreviousLoansBeforeLoan</th>\n",
       "      <th>OccupationArea</th>\n",
       "      <th>UseOfLoan</th>\n",
       "      <th>VerificationType</th>\n",
       "      <th>WorkExperience</th>\n",
       "      <th>PreviousScore</th>\n",
       "      <th>Defaulted</th>\n",
       "      <th>DefaultDate</th>\n",
       "      <th>Defaulted_pred</th>\n",
       "    </tr>\n",
       "    <tr>\n",
       "      <th>ID</th>\n",
       "      <th></th>\n",
       "      <th></th>\n",
       "      <th></th>\n",
       "      <th></th>\n",
       "      <th></th>\n",
       "      <th></th>\n",
       "      <th></th>\n",
       "      <th></th>\n",
       "      <th></th>\n",
       "      <th></th>\n",
       "      <th></th>\n",
       "      <th></th>\n",
       "      <th></th>\n",
       "      <th></th>\n",
       "      <th></th>\n",
       "      <th></th>\n",
       "      <th></th>\n",
       "      <th></th>\n",
       "      <th></th>\n",
       "      <th></th>\n",
       "      <th></th>\n",
       "    </tr>\n",
       "  </thead>\n",
       "  <tbody>\n",
       "    <tr>\n",
       "      <th>30703</th>\n",
       "      <td>2016-12-31</td>\n",
       "      <td>29.37</td>\n",
       "      <td>Current</td>\n",
       "      <td>740.0</td>\n",
       "      <td>21</td>\n",
       "      <td>6</td>\n",
       "      <td>Mõniste vald</td>\n",
       "      <td>EE</td>\n",
       "      <td>0</td>\n",
       "      <td>1995-04-08</td>\n",
       "      <td>...</td>\n",
       "      <td>True</td>\n",
       "      <td>0</td>\n",
       "      <td>17.0</td>\n",
       "      <td>2</td>\n",
       "      <td>4.0</td>\n",
       "      <td>2To5Years</td>\n",
       "      <td>0.2021</td>\n",
       "      <td>0</td>\n",
       "      <td>0</td>\n",
       "      <td>0.327682</td>\n",
       "    </tr>\n",
       "    <tr>\n",
       "      <th>30706</th>\n",
       "      <td>2016-12-31</td>\n",
       "      <td>24.43</td>\n",
       "      <td>Current</td>\n",
       "      <td>1060.0</td>\n",
       "      <td>2</td>\n",
       "      <td>7</td>\n",
       "      <td>Rae vald</td>\n",
       "      <td>EE</td>\n",
       "      <td>0</td>\n",
       "      <td>1986-04-15</td>\n",
       "      <td>...</td>\n",
       "      <td>False</td>\n",
       "      <td>1</td>\n",
       "      <td>10.0</td>\n",
       "      <td>6</td>\n",
       "      <td>3.0</td>\n",
       "      <td>10To15Years</td>\n",
       "      <td>0.1808</td>\n",
       "      <td>0</td>\n",
       "      <td>0</td>\n",
       "      <td>0.315378</td>\n",
       "    </tr>\n",
       "    <tr>\n",
       "      <th>30714</th>\n",
       "      <td>2016-12-31</td>\n",
       "      <td>21.87</td>\n",
       "      <td>Current</td>\n",
       "      <td>5315.0</td>\n",
       "      <td>14</td>\n",
       "      <td>7</td>\n",
       "      <td>Paide</td>\n",
       "      <td>EE</td>\n",
       "      <td>0</td>\n",
       "      <td>1991-04-22</td>\n",
       "      <td>...</td>\n",
       "      <td>False</td>\n",
       "      <td>3</td>\n",
       "      <td>3.0</td>\n",
       "      <td>2</td>\n",
       "      <td>3.0</td>\n",
       "      <td>5To10Years</td>\n",
       "      <td>0.1700</td>\n",
       "      <td>0</td>\n",
       "      <td>0</td>\n",
       "      <td>0.309139</td>\n",
       "    </tr>\n",
       "    <tr>\n",
       "      <th>30713</th>\n",
       "      <td>2016-12-31</td>\n",
       "      <td>87.73</td>\n",
       "      <td>Late</td>\n",
       "      <td>1865.0</td>\n",
       "      <td>12</td>\n",
       "      <td>7</td>\n",
       "      <td>Benissa</td>\n",
       "      <td>ES</td>\n",
       "      <td>B</td>\n",
       "      <td>1990-03-09</td>\n",
       "      <td>...</td>\n",
       "      <td>True</td>\n",
       "      <td>0</td>\n",
       "      <td>7.0</td>\n",
       "      <td>1</td>\n",
       "      <td>1.0</td>\n",
       "      <td>5To10Years</td>\n",
       "      <td>0.4846</td>\n",
       "      <td>0</td>\n",
       "      <td>0</td>\n",
       "      <td>0.490880</td>\n",
       "    </tr>\n",
       "    <tr>\n",
       "      <th>30712</th>\n",
       "      <td>2016-12-31</td>\n",
       "      <td>13.99</td>\n",
       "      <td>Current</td>\n",
       "      <td>530.0</td>\n",
       "      <td>12</td>\n",
       "      <td>7</td>\n",
       "      <td>Tallinn</td>\n",
       "      <td>EE</td>\n",
       "      <td>0</td>\n",
       "      <td>1992-06-25</td>\n",
       "      <td>...</td>\n",
       "      <td>False</td>\n",
       "      <td>1</td>\n",
       "      <td>1.0</td>\n",
       "      <td>7</td>\n",
       "      <td>4.0</td>\n",
       "      <td>LessThan2Years</td>\n",
       "      <td>0.0785</td>\n",
       "      <td>0</td>\n",
       "      <td>0</td>\n",
       "      <td>0.256280</td>\n",
       "    </tr>\n",
       "  </tbody>\n",
       "</table>\n",
       "<p>5 rows × 32 columns</p>\n",
       "</div>"
      ],
      "text/plain": [
       "        LoanDate  Interest   Status  Amount  ApplicationSignedHour  \\\n",
       "ID                                                                   \n",
       "30703 2016-12-31     29.37  Current   740.0                     21   \n",
       "30706 2016-12-31     24.43  Current  1060.0                      2   \n",
       "30714 2016-12-31     21.87  Current  5315.0                     14   \n",
       "30713 2016-12-31     87.73     Late  1865.0                     12   \n",
       "30712 2016-12-31     13.99  Current   530.0                     12   \n",
       "\n",
       "       ApplicationSignedWeekday          City Country  \\\n",
       "ID                                                      \n",
       "30703                         6  Mõniste vald      EE   \n",
       "30706                         7      Rae vald      EE   \n",
       "30714                         7         Paide      EE   \n",
       "30713                         7       Benissa      ES   \n",
       "30712                         7       Tallinn      EE   \n",
       "\n",
       "      CreditScoreEsEquifaxRisk DateOfBirth       ...        NewCreditCustomer  \\\n",
       "ID                                               ...                            \n",
       "30703                        0  1995-04-08       ...                     True   \n",
       "30706                        0  1986-04-15       ...                    False   \n",
       "30714                        0  1991-04-22       ...                    False   \n",
       "30713                        B  1990-03-09       ...                     True   \n",
       "30712                        0  1992-06-25       ...                    False   \n",
       "\n",
       "       NoOfPreviousLoansBeforeLoan OccupationArea UseOfLoan  VerificationType  \\\n",
       "ID                                                                              \n",
       "30703                            0           17.0         2               4.0   \n",
       "30706                            1           10.0         6               3.0   \n",
       "30714                            3            3.0         2               3.0   \n",
       "30713                            0            7.0         1               1.0   \n",
       "30712                            1            1.0         7               4.0   \n",
       "\n",
       "       WorkExperience  PreviousScore  Defaulted  DefaultDate  Defaulted_pred  \n",
       "ID                                                                            \n",
       "30703       2To5Years         0.2021          0            0        0.327682  \n",
       "30706     10To15Years         0.1808          0            0        0.315378  \n",
       "30714      5To10Years         0.1700          0            0        0.309139  \n",
       "30713      5To10Years         0.4846          0            0        0.490880  \n",
       "30712  LessThan2Years         0.0785          0            0        0.256280  \n",
       "\n",
       "[5 rows x 32 columns]"
      ]
     },
     "execution_count": 44,
     "metadata": {},
     "output_type": "execute_result"
    }
   ],
   "source": [
    "# fit a linear regression model and store the predictions\n",
    "feature_cols = ['PreviousScore']\n",
    "X = df1[feature_cols]\n",
    "y = df1.Defaulted\n",
    "linreg.fit(X, y)\n",
    "df1['Defaulted_pred'] = linreg.predict(X)\n",
    "df1.head()"
   ]
  },
  {
   "cell_type": "code",
   "execution_count": 84,
   "metadata": {},
   "outputs": [
    {
     "data": {
      "text/plain": [
       "<matplotlib.text.Text at 0x129ecfda0>"
      ]
     },
     "execution_count": 84,
     "metadata": {},
     "output_type": "execute_result"
    },
    {
     "data": {
      "image/png": "[encoded data removed]",
      "text/plain": [
       "<matplotlib.figure.Figure at 0x12cf132b0>"
      ]
     },
     "metadata": {},
     "output_type": "display_data"
    }
   ],
   "source": [
    "# scatter plot that includes the regression line\n",
    "plt.scatter(df1.PreviousScore, df1.Defaulted)\n",
    "plt.plot(df1.PreviousScore, df1.Defaulted_pred, color='red')\n",
    "plt.xlabel('Amount')\n",
    "plt.ylabel('Defaulted')"
   ]
  },
  {
   "cell_type": "markdown",
   "metadata": {},
   "source": [
    "If **PreviousScore=0.6**, what class can be predicted for defaulted? **1**\n",
    "\n",
    "If **PreviousScore=0.3**, what class can be predicted for defaulted? **0**\n",
    "\n",
    "Predict the 0 class for **lower** values of PreviousScore, and the 1 class for **higher** values of PreviousScores. What's the cutoff value? Around **PreviousScore=0.4**, because that's where the linear regression line crosses the midpoint between predicting class 0 and class 1.\n",
    "\n",
    "Therefore, if **defaulted_pred >= 0.5**, a class of **1** is predicted, else a class of **0**.\n",
    "\n",
    "## $$h_\\beta(x) = \\beta_0 + \\beta_1x_1 + \\beta_2x_2 + ... + \\beta_nx_n$$\n",
    "\n",
    "- $h_\\beta(x)$ is the response\n",
    "- $\\beta_0$ is the intercept\n",
    "- $\\beta_1$ is the coefficient for $x_1$ (the first feature)\n",
    "- $\\beta_n$ is the coefficient for $x_n$ (the nth feature)\n",
    "\n",
    "### if $h_\\beta(x)\\le 0.5$ then $\\hat y = 0$ \n",
    "\n",
    "### if $h_\\beta(x)> 0.5$ then $\\hat y = 1$ "
   ]
  },
  {
   "cell_type": "code",
   "execution_count": 139,
   "metadata": {},
   "outputs": [
    {
     "data": {
      "text/plain": [
       "array(['small', 'big', 'small'], \n",
       "      dtype='<U5')"
      ]
     },
     "execution_count": 139,
     "metadata": {},
     "output_type": "execute_result"
    }
   ],
   "source": [
    "# understanding np.where\n",
    "nums = np.array([5, 15, 8])\n",
    "\n",
    "# np.where returns the first value if the condition is True, and the second value if the condition is False\n",
    "np.where(nums > 10, 'big', 'small')"
   ]
  },
  {
   "cell_type": "code",
   "execution_count": 83,
   "metadata": {},
   "outputs": [
    {
     "data": {
      "text/html": [
       "<div>\n",
       "<table border=\"1\" class=\"dataframe\">\n",
       "  <thead>\n",
       "    <tr style=\"text-align: right;\">\n",
       "      <th></th>\n",
       "      <th>LoanDate</th>\n",
       "      <th>Interest</th>\n",
       "      <th>Status</th>\n",
       "      <th>Amount</th>\n",
       "      <th>ApplicationSignedHour</th>\n",
       "      <th>ApplicationSignedWeekday</th>\n",
       "      <th>City</th>\n",
       "      <th>Country</th>\n",
       "      <th>CreditScoreEsEquifaxRisk</th>\n",
       "      <th>DateOfBirth</th>\n",
       "      <th>...</th>\n",
       "      <th>NoOfPreviousLoansBeforeLoan</th>\n",
       "      <th>OccupationArea</th>\n",
       "      <th>UseOfLoan</th>\n",
       "      <th>VerificationType</th>\n",
       "      <th>WorkExperience</th>\n",
       "      <th>PreviousScore</th>\n",
       "      <th>Defaulted</th>\n",
       "      <th>DefaultDate</th>\n",
       "      <th>Defaulted_pred</th>\n",
       "      <th>Defaulted_pred_class</th>\n",
       "    </tr>\n",
       "    <tr>\n",
       "      <th>ID</th>\n",
       "      <th></th>\n",
       "      <th></th>\n",
       "      <th></th>\n",
       "      <th></th>\n",
       "      <th></th>\n",
       "      <th></th>\n",
       "      <th></th>\n",
       "      <th></th>\n",
       "      <th></th>\n",
       "      <th></th>\n",
       "      <th></th>\n",
       "      <th></th>\n",
       "      <th></th>\n",
       "      <th></th>\n",
       "      <th></th>\n",
       "      <th></th>\n",
       "      <th></th>\n",
       "      <th></th>\n",
       "      <th></th>\n",
       "      <th></th>\n",
       "      <th></th>\n",
       "    </tr>\n",
       "  </thead>\n",
       "  <tbody>\n",
       "    <tr>\n",
       "      <th>30703</th>\n",
       "      <td>2016-12-31</td>\n",
       "      <td>29.37</td>\n",
       "      <td>Current</td>\n",
       "      <td>740.0</td>\n",
       "      <td>21</td>\n",
       "      <td>6</td>\n",
       "      <td>Mõniste vald</td>\n",
       "      <td>EE</td>\n",
       "      <td>0</td>\n",
       "      <td>1995-04-08</td>\n",
       "      <td>...</td>\n",
       "      <td>0</td>\n",
       "      <td>17.0</td>\n",
       "      <td>2</td>\n",
       "      <td>4.0</td>\n",
       "      <td>2To5Years</td>\n",
       "      <td>0.2021</td>\n",
       "      <td>0</td>\n",
       "      <td>0</td>\n",
       "      <td>0.327682</td>\n",
       "      <td>0</td>\n",
       "    </tr>\n",
       "    <tr>\n",
       "      <th>30706</th>\n",
       "      <td>2016-12-31</td>\n",
       "      <td>24.43</td>\n",
       "      <td>Current</td>\n",
       "      <td>1060.0</td>\n",
       "      <td>2</td>\n",
       "      <td>7</td>\n",
       "      <td>Rae vald</td>\n",
       "      <td>EE</td>\n",
       "      <td>0</td>\n",
       "      <td>1986-04-15</td>\n",
       "      <td>...</td>\n",
       "      <td>1</td>\n",
       "      <td>10.0</td>\n",
       "      <td>6</td>\n",
       "      <td>3.0</td>\n",
       "      <td>10To15Years</td>\n",
       "      <td>0.1808</td>\n",
       "      <td>0</td>\n",
       "      <td>0</td>\n",
       "      <td>0.315378</td>\n",
       "      <td>0</td>\n",
       "    </tr>\n",
       "    <tr>\n",
       "      <th>30714</th>\n",
       "      <td>2016-12-31</td>\n",
       "      <td>21.87</td>\n",
       "      <td>Current</td>\n",
       "      <td>5315.0</td>\n",
       "      <td>14</td>\n",
       "      <td>7</td>\n",
       "      <td>Paide</td>\n",
       "      <td>EE</td>\n",
       "      <td>0</td>\n",
       "      <td>1991-04-22</td>\n",
       "      <td>...</td>\n",
       "      <td>3</td>\n",
       "      <td>3.0</td>\n",
       "      <td>2</td>\n",
       "      <td>3.0</td>\n",
       "      <td>5To10Years</td>\n",
       "      <td>0.1700</td>\n",
       "      <td>0</td>\n",
       "      <td>0</td>\n",
       "      <td>0.309139</td>\n",
       "      <td>0</td>\n",
       "    </tr>\n",
       "    <tr>\n",
       "      <th>30713</th>\n",
       "      <td>2016-12-31</td>\n",
       "      <td>87.73</td>\n",
       "      <td>Late</td>\n",
       "      <td>1865.0</td>\n",
       "      <td>12</td>\n",
       "      <td>7</td>\n",
       "      <td>Benissa</td>\n",
       "      <td>ES</td>\n",
       "      <td>B</td>\n",
       "      <td>1990-03-09</td>\n",
       "      <td>...</td>\n",
       "      <td>0</td>\n",
       "      <td>7.0</td>\n",
       "      <td>1</td>\n",
       "      <td>1.0</td>\n",
       "      <td>5To10Years</td>\n",
       "      <td>0.4846</td>\n",
       "      <td>0</td>\n",
       "      <td>0</td>\n",
       "      <td>0.490880</td>\n",
       "      <td>0</td>\n",
       "    </tr>\n",
       "    <tr>\n",
       "      <th>30712</th>\n",
       "      <td>2016-12-31</td>\n",
       "      <td>13.99</td>\n",
       "      <td>Current</td>\n",
       "      <td>530.0</td>\n",
       "      <td>12</td>\n",
       "      <td>7</td>\n",
       "      <td>Tallinn</td>\n",
       "      <td>EE</td>\n",
       "      <td>0</td>\n",
       "      <td>1992-06-25</td>\n",
       "      <td>...</td>\n",
       "      <td>1</td>\n",
       "      <td>1.0</td>\n",
       "      <td>7</td>\n",
       "      <td>4.0</td>\n",
       "      <td>LessThan2Years</td>\n",
       "      <td>0.0785</td>\n",
       "      <td>0</td>\n",
       "      <td>0</td>\n",
       "      <td>0.256280</td>\n",
       "      <td>0</td>\n",
       "    </tr>\n",
       "    <tr>\n",
       "      <th>30709</th>\n",
       "      <td>2016-12-31</td>\n",
       "      <td>25.02</td>\n",
       "      <td>Late</td>\n",
       "      <td>1700.0</td>\n",
       "      <td>11</td>\n",
       "      <td>7</td>\n",
       "      <td>PÄRNU</td>\n",
       "      <td>EE</td>\n",
       "      <td>0</td>\n",
       "      <td>1994-02-15</td>\n",
       "      <td>...</td>\n",
       "      <td>1</td>\n",
       "      <td>1.0</td>\n",
       "      <td>7</td>\n",
       "      <td>3.0</td>\n",
       "      <td>2To5Years</td>\n",
       "      <td>0.1853</td>\n",
       "      <td>0</td>\n",
       "      <td>0</td>\n",
       "      <td>0.317977</td>\n",
       "      <td>0</td>\n",
       "    </tr>\n",
       "    <tr>\n",
       "      <th>30708</th>\n",
       "      <td>2016-12-31</td>\n",
       "      <td>20.80</td>\n",
       "      <td>Repaid</td>\n",
       "      <td>2230.0</td>\n",
       "      <td>9</td>\n",
       "      <td>7</td>\n",
       "      <td>Kohila Vald</td>\n",
       "      <td>EE</td>\n",
       "      <td>0</td>\n",
       "      <td>1977-07-28</td>\n",
       "      <td>...</td>\n",
       "      <td>4</td>\n",
       "      <td>7.0</td>\n",
       "      <td>0</td>\n",
       "      <td>3.0</td>\n",
       "      <td>10To15Years</td>\n",
       "      <td>0.1296</td>\n",
       "      <td>0</td>\n",
       "      <td>0</td>\n",
       "      <td>0.285800</td>\n",
       "      <td>0</td>\n",
       "    </tr>\n",
       "    <tr>\n",
       "      <th>30691</th>\n",
       "      <td>2016-12-31</td>\n",
       "      <td>13.17</td>\n",
       "      <td>Current</td>\n",
       "      <td>530.0</td>\n",
       "      <td>13</td>\n",
       "      <td>6</td>\n",
       "      <td>Tallinn</td>\n",
       "      <td>EE</td>\n",
       "      <td>0</td>\n",
       "      <td>1991-09-20</td>\n",
       "      <td>...</td>\n",
       "      <td>1</td>\n",
       "      <td>3.0</td>\n",
       "      <td>7</td>\n",
       "      <td>1.0</td>\n",
       "      <td>2To5Years</td>\n",
       "      <td>0.0497</td>\n",
       "      <td>0</td>\n",
       "      <td>0</td>\n",
       "      <td>0.239642</td>\n",
       "      <td>0</td>\n",
       "    </tr>\n",
       "    <tr>\n",
       "      <th>30695</th>\n",
       "      <td>2016-12-31</td>\n",
       "      <td>30.64</td>\n",
       "      <td>Current</td>\n",
       "      <td>10630.0</td>\n",
       "      <td>15</td>\n",
       "      <td>6</td>\n",
       "      <td>Võru linn</td>\n",
       "      <td>EE</td>\n",
       "      <td>0</td>\n",
       "      <td>1984-07-05</td>\n",
       "      <td>...</td>\n",
       "      <td>0</td>\n",
       "      <td>6.0</td>\n",
       "      <td>6</td>\n",
       "      <td>1.0</td>\n",
       "      <td>10To15Years</td>\n",
       "      <td>0.2185</td>\n",
       "      <td>0</td>\n",
       "      <td>0</td>\n",
       "      <td>0.337156</td>\n",
       "      <td>0</td>\n",
       "    </tr>\n",
       "    <tr>\n",
       "      <th>30707</th>\n",
       "      <td>2016-12-31</td>\n",
       "      <td>11.35</td>\n",
       "      <td>Current</td>\n",
       "      <td>1060.0</td>\n",
       "      <td>3</td>\n",
       "      <td>7</td>\n",
       "      <td>Viimsi vald</td>\n",
       "      <td>EE</td>\n",
       "      <td>0</td>\n",
       "      <td>1972-07-02</td>\n",
       "      <td>...</td>\n",
       "      <td>0</td>\n",
       "      <td>1.0</td>\n",
       "      <td>5</td>\n",
       "      <td>4.0</td>\n",
       "      <td>15To25Years</td>\n",
       "      <td>0.0404</td>\n",
       "      <td>0</td>\n",
       "      <td>0</td>\n",
       "      <td>0.234270</td>\n",
       "      <td>0</td>\n",
       "    </tr>\n",
       "  </tbody>\n",
       "</table>\n",
       "<p>10 rows × 33 columns</p>\n",
       "</div>"
      ],
      "text/plain": [
       "        LoanDate  Interest   Status   Amount  ApplicationSignedHour  \\\n",
       "ID                                                                    \n",
       "30703 2016-12-31     29.37  Current    740.0                     21   \n",
       "30706 2016-12-31     24.43  Current   1060.0                      2   \n",
       "30714 2016-12-31     21.87  Current   5315.0                     14   \n",
       "30713 2016-12-31     87.73     Late   1865.0                     12   \n",
       "30712 2016-12-31     13.99  Current    530.0                     12   \n",
       "30709 2016-12-31     25.02     Late   1700.0                     11   \n",
       "30708 2016-12-31     20.80   Repaid   2230.0                      9   \n",
       "30691 2016-12-31     13.17  Current    530.0                     13   \n",
       "30695 2016-12-31     30.64  Current  10630.0                     15   \n",
       "30707 2016-12-31     11.35  Current   1060.0                      3   \n",
       "\n",
       "       ApplicationSignedWeekday          City Country  \\\n",
       "ID                                                      \n",
       "30703                         6  Mõniste vald      EE   \n",
       "30706                         7      Rae vald      EE   \n",
       "30714                         7         Paide      EE   \n",
       "30713                         7       Benissa      ES   \n",
       "30712                         7       Tallinn      EE   \n",
       "30709                         7         PÄRNU      EE   \n",
       "30708                         7   Kohila Vald      EE   \n",
       "30691                         6       Tallinn      EE   \n",
       "30695                         6     Võru linn      EE   \n",
       "30707                         7   Viimsi vald      EE   \n",
       "\n",
       "      CreditScoreEsEquifaxRisk DateOfBirth          ...           \\\n",
       "ID                                                  ...            \n",
       "30703                        0  1995-04-08          ...            \n",
       "30706                        0  1986-04-15          ...            \n",
       "30714                        0  1991-04-22          ...            \n",
       "30713                        B  1990-03-09          ...            \n",
       "30712                        0  1992-06-25          ...            \n",
       "30709                        0  1994-02-15          ...            \n",
       "30708                        0  1977-07-28          ...            \n",
       "30691                        0  1991-09-20          ...            \n",
       "30695                        0  1984-07-05          ...            \n",
       "30707                        0  1972-07-02          ...            \n",
       "\n",
       "       NoOfPreviousLoansBeforeLoan  OccupationArea UseOfLoan VerificationType  \\\n",
       "ID                                                                              \n",
       "30703                            0            17.0         2              4.0   \n",
       "30706                            1            10.0         6              3.0   \n",
       "30714                            3             3.0         2              3.0   \n",
       "30713                            0             7.0         1              1.0   \n",
       "30712                            1             1.0         7              4.0   \n",
       "30709                            1             1.0         7              3.0   \n",
       "30708                            4             7.0         0              3.0   \n",
       "30691                            1             3.0         7              1.0   \n",
       "30695                            0             6.0         6              1.0   \n",
       "30707                            0             1.0         5              4.0   \n",
       "\n",
       "       WorkExperience  PreviousScore  Defaulted  DefaultDate  Defaulted_pred  \\\n",
       "ID                                                                             \n",
       "30703       2To5Years         0.2021          0            0        0.327682   \n",
       "30706     10To15Years         0.1808          0            0        0.315378   \n",
       "30714      5To10Years         0.1700          0            0        0.309139   \n",
       "30713      5To10Years         0.4846          0            0        0.490880   \n",
       "30712  LessThan2Years         0.0785          0            0        0.256280   \n",
       "30709       2To5Years         0.1853          0            0        0.317977   \n",
       "30708     10To15Years         0.1296          0            0        0.285800   \n",
       "30691       2To5Years         0.0497          0            0        0.239642   \n",
       "30695     10To15Years         0.2185          0            0        0.337156   \n",
       "30707     15To25Years         0.0404          0            0        0.234270   \n",
       "\n",
       "       Defaulted_pred_class  \n",
       "ID                           \n",
       "30703                     0  \n",
       "30706                     0  \n",
       "30714                     0  \n",
       "30713                     0  \n",
       "30712                     0  \n",
       "30709                     0  \n",
       "30708                     0  \n",
       "30691                     0  \n",
       "30695                     0  \n",
       "30707                     0  \n",
       "\n",
       "[10 rows x 33 columns]"
      ]
     },
     "execution_count": 83,
     "metadata": {},
     "output_type": "execute_result"
    }
   ],
   "source": [
    "# transform Defaulted_pred to 1 or 0\n",
    "df1['Defaulted_pred_class'] = np.where(df1.Defaulted_pred >= 0.5, 1, 0)\n",
    "df1.head(10)"
   ]
  },
  {
   "cell_type": "markdown",
   "metadata": {},
   "source": [
    "Now all the Defaulted_pred_class (default prediction) are either 1 or 0 (True= defaulted or False= not defaulted)"
   ]
  },
  {
   "cell_type": "code",
   "execution_count": 89,
   "metadata": {},
   "outputs": [
    {
     "data": {
      "text/plain": [
       "<matplotlib.text.Text at 0x14ac2fa58>"
      ]
     },
     "execution_count": 89,
     "metadata": {},
     "output_type": "execute_result"
    },
    {
     "data": {
      "image/png": "[encoded data removed]",
      "text/plain": [
       "<matplotlib.figure.Figure at 0x14ac226d8>"
      ]
     },
     "metadata": {},
     "output_type": "display_data"
    }
   ],
   "source": [
    "# plot the class predictions\n",
    "plt.scatter(df1.PreviousScore, df1.Defaulted)\n",
    "plt.plot(df1.PreviousScore, df1.Defaulted_pred_class, color='red')\n",
    "plt.xlabel('PreviousScore')\n",
    "plt.ylabel('Defaulted')"
   ]
  },
  {
   "cell_type": "markdown",
   "metadata": {},
   "source": [
    "**Both values are binary, this leads to a strange looking graph**"
   ]
  },
  {
   "cell_type": "markdown",
   "metadata": {},
   "source": [
    "$h_\\beta(x)$ can be lower 0 or higher than 1, which is countra intuitive\n",
    "\n",
    "## Logistic Regression \n"
   ]
  },
  {
   "cell_type": "code",
   "execution_count": 112,
   "metadata": {},
   "outputs": [],
   "source": [
    "# fit a logistic regression model and store the class predictions\n",
    "from sklearn.linear_model import LogisticRegression\n",
    "logreg = LogisticRegression(C=1e9)\n",
    "feature_cols = ['PreviousScore']\n",
    "X = df1[feature_cols]\n",
    "y = df1.Defaulted\n",
    "logreg.fit(X, y)\n",
    "df1['Defaulted_pred_class'] = logreg.predict(X)"
   ]
  },
  {
   "cell_type": "code",
   "execution_count": 113,
   "metadata": {},
   "outputs": [
    {
     "data": {
      "text/plain": [
       "<matplotlib.text.Text at 0x179fac630>"
      ]
     },
     "execution_count": 113,
     "metadata": {},
     "output_type": "execute_result"
    },
    {
     "data": {
      "image/png": "[encoded data removed]",
      "text/plain": [
       "<matplotlib.figure.Figure at 0x1757d2b38>"
      ]
     },
     "metadata": {},
     "output_type": "display_data"
    }
   ],
   "source": [
    "# plot the class predictions\n",
    "plt.scatter(df1.Interest, df1.Defaulted)\n",
    "plt.plot(df1.Interest, df1.Defaulted_pred, color='red')\n",
    "plt.xlabel('Interest')\n",
    "plt.ylabel('Defaulted')"
   ]
  },
  {
   "cell_type": "markdown",
   "metadata": {},
   "source": [
    "**predicted probabilities** instead of just the **class predictions**"
   ]
  },
  {
   "cell_type": "code",
   "execution_count": 114,
   "metadata": {},
   "outputs": [],
   "source": [
    "# store the predicted probabilites of class 1\n",
    "df1['Defaulted_pred_prop'] = logreg.predict_proba(X)[:, 1]"
   ]
  },
  {
   "cell_type": "code",
   "execution_count": 117,
   "metadata": {},
   "outputs": [
    {
     "data": {
      "text/plain": [
       "<matplotlib.text.Text at 0x1735bb9b0>"
      ]
     },
     "execution_count": 117,
     "metadata": {},
     "output_type": "execute_result"
    },
    {
     "data": {
      "image/png": "[encoded data removed]",
      "text/plain": [
       "<matplotlib.figure.Figure at 0x13ea8f390>"
      ]
     },
     "metadata": {},
     "output_type": "display_data"
    }
   ],
   "source": [
    "# plot the predicted probabilities\n",
    "plt.scatter(df1.PreviousScore, df1.Defaulted)\n",
    "plt.plot(df1.PreviousScore, df1.Defaulted_pred_prop, color='red')\n",
    "plt.xlabel('PreviousScore')\n",
    "plt.ylabel('Defaulted')"
   ]
  },
  {
   "cell_type": "markdown",
   "metadata": {},
   "source": [
    "### Results in a better fit (The data is not optimal for the model)."
   ]
  },
  {
   "cell_type": "code",
   "execution_count": 119,
   "metadata": {},
   "outputs": [
    {
     "name": "stdout",
     "output_type": "stream",
     "text": [
      "[[ 0.21779363  0.78220637]]\n",
      "[[ 0.02154143  0.97845857]]\n",
      "[[ 0.00173774  0.99826226]]\n"
     ]
    }
   ],
   "source": [
    "# examine some example predictions\n",
    "print(logreg.predict_proba(1))\n",
    "print(logreg.predict_proba(2))\n",
    "print(logreg.predict_proba(3))"
   ]
  },
  {
   "cell_type": "markdown",
   "metadata": {},
   "source": [
    "The first column indicates the predicted probability of **class 0**, and the second column indicates the predicted probability of **class 1**."
   ]
  },
  {
   "cell_type": "markdown",
   "metadata": {},
   "source": [
    "## Probability, odds, e, log, log-odds\n",
    "\n",
    "$$probability = \\frac {one\\ outcome} {all\\ outcomes}$$\n",
    "\n",
    "$$odds = \\frac {one\\ outcome} {all\\ other\\ outcomes}$$\n",
    "\n",
    "Examples:\n",
    "\n",
    "- Dice roll of 1: probability = 1/6, odds = 1/5\n",
    "- Even dice roll: probability = 3/6, odds = 3/3 = 1\n",
    "- Dice roll less than 5: probability = 4/6, odds = 4/2 = 2\n",
    "\n",
    "$$odds = \\frac {probability} {1 - probability}$$\n",
    "\n",
    "$$probability = \\frac {odds} {1 + odds}$$"
   ]
  },
  {
   "cell_type": "code",
   "execution_count": 782,
   "metadata": {},
   "outputs": [
    {
     "data": {
      "text/html": [
       "<div>\n",
       "<table border=\"1\" class=\"dataframe\">\n",
       "  <thead>\n",
       "    <tr style=\"text-align: right;\">\n",
       "      <th></th>\n",
       "      <th>probability</th>\n",
       "      <th>odds</th>\n",
       "    </tr>\n",
       "  </thead>\n",
       "  <tbody>\n",
       "    <tr>\n",
       "      <th>0</th>\n",
       "      <td>0.10</td>\n",
       "      <td>0.111111</td>\n",
       "    </tr>\n",
       "    <tr>\n",
       "      <th>1</th>\n",
       "      <td>0.20</td>\n",
       "      <td>0.250000</td>\n",
       "    </tr>\n",
       "    <tr>\n",
       "      <th>2</th>\n",
       "      <td>0.25</td>\n",
       "      <td>0.333333</td>\n",
       "    </tr>\n",
       "    <tr>\n",
       "      <th>3</th>\n",
       "      <td>0.50</td>\n",
       "      <td>1.000000</td>\n",
       "    </tr>\n",
       "    <tr>\n",
       "      <th>4</th>\n",
       "      <td>0.60</td>\n",
       "      <td>1.500000</td>\n",
       "    </tr>\n",
       "    <tr>\n",
       "      <th>5</th>\n",
       "      <td>0.80</td>\n",
       "      <td>4.000000</td>\n",
       "    </tr>\n",
       "    <tr>\n",
       "      <th>6</th>\n",
       "      <td>0.90</td>\n",
       "      <td>9.000000</td>\n",
       "    </tr>\n",
       "  </tbody>\n",
       "</table>\n",
       "</div>"
      ],
      "text/plain": [
       "   probability      odds\n",
       "0         0.10  0.111111\n",
       "1         0.20  0.250000\n",
       "2         0.25  0.333333\n",
       "3         0.50  1.000000\n",
       "4         0.60  1.500000\n",
       "5         0.80  4.000000\n",
       "6         0.90  9.000000"
      ]
     },
     "execution_count": 782,
     "metadata": {},
     "output_type": "execute_result"
    }
   ],
   "source": [
    "# create a table of probability versus odds\n",
    "table = pd.DataFrame({'probability':[0.1, 0.2, 0.25, 0.5, 0.6, 0.8, 0.9]})\n",
    "table['odds'] = table.probability/(1 - table.probability)\n",
    "table"
   ]
  },
  {
   "cell_type": "markdown",
   "metadata": {},
   "source": [
    "What is **e**? It is the base rate of growth shared by all continually growing processes:"
   ]
  },
  {
   "cell_type": "code",
   "execution_count": 786,
   "metadata": {},
   "outputs": [
    {
     "data": {
      "text/html": [
       "<div>\n",
       "<table border=\"1\" class=\"dataframe\">\n",
       "  <thead>\n",
       "    <tr style=\"text-align: right;\">\n",
       "      <th></th>\n",
       "      <th>probability</th>\n",
       "      <th>odds</th>\n",
       "      <th>logodds</th>\n",
       "    </tr>\n",
       "  </thead>\n",
       "  <tbody>\n",
       "    <tr>\n",
       "      <th>0</th>\n",
       "      <td>0.10</td>\n",
       "      <td>0.111111</td>\n",
       "      <td>-2.197225</td>\n",
       "    </tr>\n",
       "    <tr>\n",
       "      <th>1</th>\n",
       "      <td>0.20</td>\n",
       "      <td>0.250000</td>\n",
       "      <td>-1.386294</td>\n",
       "    </tr>\n",
       "    <tr>\n",
       "      <th>2</th>\n",
       "      <td>0.25</td>\n",
       "      <td>0.333333</td>\n",
       "      <td>-1.098612</td>\n",
       "    </tr>\n",
       "    <tr>\n",
       "      <th>3</th>\n",
       "      <td>0.50</td>\n",
       "      <td>1.000000</td>\n",
       "      <td>0.000000</td>\n",
       "    </tr>\n",
       "    <tr>\n",
       "      <th>4</th>\n",
       "      <td>0.60</td>\n",
       "      <td>1.500000</td>\n",
       "      <td>0.405465</td>\n",
       "    </tr>\n",
       "    <tr>\n",
       "      <th>5</th>\n",
       "      <td>0.80</td>\n",
       "      <td>4.000000</td>\n",
       "      <td>1.386294</td>\n",
       "    </tr>\n",
       "    <tr>\n",
       "      <th>6</th>\n",
       "      <td>0.90</td>\n",
       "      <td>9.000000</td>\n",
       "      <td>2.197225</td>\n",
       "    </tr>\n",
       "  </tbody>\n",
       "</table>\n",
       "</div>"
      ],
      "text/plain": [
       "   probability      odds   logodds\n",
       "0         0.10  0.111111 -2.197225\n",
       "1         0.20  0.250000 -1.386294\n",
       "2         0.25  0.333333 -1.098612\n",
       "3         0.50  1.000000  0.000000\n",
       "4         0.60  1.500000  0.405465\n",
       "5         0.80  4.000000  1.386294\n",
       "6         0.90  9.000000  2.197225"
      ]
     },
     "execution_count": 786,
     "metadata": {},
     "output_type": "execute_result"
    }
   ],
   "source": [
    "# add log-odds to the table\n",
    "table['logodds'] = np.log(table.odds)\n",
    "table"
   ]
  },
  {
   "cell_type": "markdown",
   "metadata": {},
   "source": [
    "## Logistic Regression: Summary"
   ]
  },
  {
   "cell_type": "markdown",
   "metadata": {},
   "source": [
    "**Linear regression:** continuous response is modeled as a linear combination of the features:\n",
    "\n",
    "$$y = \\beta_0 + \\beta_1x$$\n",
    "\n",
    "**Logistic regression:** log-odds of a categorical response being \"true\" (1) is modeled as a linear combination of the features:\n",
    "\n",
    "$$\\log \\left({p\\over 1-p}\\right) = \\beta_0 + \\beta_1x$$\n",
    "\n",
    "This is called the **logit function**.\n",
    "\n",
    "Probability is written as pi:\n",
    "\n",
    "$$\\log \\left({\\pi\\over 1-\\pi}\\right) = \\beta_0 + \\beta_1x$$\n",
    "\n",
    "The equation can be rearranged into the **logistic function**:\n",
    "\n",
    "$$\\pi = \\frac{e^{\\beta_0 + \\beta_1x}} {1 + e^{\\beta_0 + \\beta_1x}}$$"
   ]
  },
  {
   "cell_type": "markdown",
   "metadata": {},
   "source": [
    "In other words:\n",
    "\n",
    "- Logistic regression outputs the **probabilities of a specific class**\n",
    "- Those probabilities can be converted into **class predictions**\n",
    "\n",
    "The **logistic function** has some nice properties:\n",
    "\n",
    "- Takes on an \"s\" shape\n",
    "- Output is bounded by 0 and 1\n",
    "\n",
    "We have covered how this works for **binary classification problems** (two response classes). But what about **multi-class classification problems** (more than two response classes)?\n",
    "\n",
    "- Most common solution for classification models is **\"one-vs-all\"** (also known as **\"one-vs-rest\"**): decompose the problem into multiple binary classification problems\n",
    "- **Multinomial logistic regression** can solve this as a single problem"
   ]
  },
  {
   "cell_type": "markdown",
   "metadata": {},
   "source": [
    "## Interpretation of Logistic Regression Coefficients"
   ]
  },
  {
   "cell_type": "code",
   "execution_count": 121,
   "metadata": {},
   "outputs": [
    {
     "data": {
      "text/plain": [
       "<matplotlib.text.Text at 0x1735bb160>"
      ]
     },
     "execution_count": 121,
     "metadata": {},
     "output_type": "execute_result"
    },
    {
     "data": {
      "image/png": "[encoded data removed]",
      "text/plain": [
       "<matplotlib.figure.Figure at 0x13eb8c9b0>"
      ]
     },
     "metadata": {},
     "output_type": "display_data"
    }
   ],
   "source": [
    "# plot the predicted probabilities again\n",
    "plt.scatter(df1.PreviousScore, df1.Defaulted)\n",
    "plt.plot(df1.PreviousScore, df1.Defaulted_pred_prop, color='red')\n",
    "plt.xlabel('PreviousScore')\n",
    "plt.ylabel('Defaulted')"
   ]
  },
  {
   "cell_type": "code",
   "execution_count": 122,
   "metadata": {},
   "outputs": [
    {
     "data": {
      "text/plain": [
       "array([ 3.81600045])"
      ]
     },
     "execution_count": 122,
     "metadata": {},
     "output_type": "execute_result"
    }
   ],
   "source": [
    "# compute predicted log-odds for al=2 using the equation\n",
    "logodds = logreg.intercept_ + logreg.coef_[0] * 2\n",
    "logodds"
   ]
  },
  {
   "cell_type": "code",
   "execution_count": 123,
   "metadata": {},
   "outputs": [
    {
     "data": {
      "text/plain": [
       "array([ 45.42217648])"
      ]
     },
     "execution_count": 123,
     "metadata": {},
     "output_type": "execute_result"
    }
   ],
   "source": [
    "# convert log-odds to odds\n",
    "odds = np.exp(logodds)\n",
    "odds"
   ]
  },
  {
   "cell_type": "code",
   "execution_count": 124,
   "metadata": {},
   "outputs": [
    {
     "data": {
      "text/plain": [
       "array([ 0.97845857])"
      ]
     },
     "execution_count": 124,
     "metadata": {},
     "output_type": "execute_result"
    }
   ],
   "source": [
    "# convert odds to probability\n",
    "prob = odds/(1 + odds)\n",
    "prob"
   ]
  },
  {
   "cell_type": "code",
   "execution_count": 125,
   "metadata": {},
   "outputs": [
    {
     "data": {
      "text/plain": [
       "array([ 0.97845857])"
      ]
     },
     "execution_count": 125,
     "metadata": {},
     "output_type": "execute_result"
    }
   ],
   "source": [
    "# compute predicted probability for al=2 using the predict_proba method\n",
    "logreg.predict_proba(2)[:, 1]"
   ]
  },
  {
   "cell_type": "code",
   "execution_count": 126,
   "metadata": {},
   "outputs": [
    {
     "data": {
      "text/plain": [
       "(['PreviousScore'], array([ 2.53742983]))"
      ]
     },
     "execution_count": 126,
     "metadata": {},
     "output_type": "execute_result"
    }
   ],
   "source": [
    "# examine the coefficient for al\n",
    "feature_cols, logreg.coef_[0]"
   ]
  },
  {
   "cell_type": "markdown",
   "metadata": {},
   "source": [
    "**Interpretation:** A 1 unit increase in 'PreviousScore' is associated with a 4.18 unit increase in the log-odds of 'Defaulted'."
   ]
  },
  {
   "cell_type": "code",
   "execution_count": 127,
   "metadata": {},
   "outputs": [
    {
     "data": {
      "text/plain": [
       "0.99205808391674566"
      ]
     },
     "execution_count": 127,
     "metadata": {},
     "output_type": "execute_result"
    }
   ],
   "source": [
    "# increasing al by 1 (so that al=3) increases the log-odds by 4.18\n",
    "logodds = 0.64722323 + 4.1804038614510901\n",
    "odds = np.exp(logodds)\n",
    "prob = odds/(1 + odds)\n",
    "prob"
   ]
  },
  {
   "cell_type": "code",
   "execution_count": 128,
   "metadata": {},
   "outputs": [
    {
     "data": {
      "text/plain": [
       "array([ 0.99826226])"
      ]
     },
     "execution_count": 128,
     "metadata": {},
     "output_type": "execute_result"
    }
   ],
   "source": [
    "# compute predicted probability for al=3 using the predict_proba method\n",
    "logreg.predict_proba(3)[:, 1]"
   ]
  },
  {
   "cell_type": "markdown",
   "metadata": {},
   "source": [
    "**Bottom line:** Positive coefficients increase the log-odds of the response (and thus increase the probability), and negative coefficients decrease the log-odds of the response (and thus decrease the probability)."
   ]
  },
  {
   "cell_type": "code",
   "execution_count": 129,
   "metadata": {},
   "outputs": [
    {
     "data": {
      "text/plain": [
       "array([-1.25885921])"
      ]
     },
     "execution_count": 129,
     "metadata": {},
     "output_type": "execute_result"
    }
   ],
   "source": [
    "# examine the intercept\n",
    "logreg.intercept_"
   ]
  },
  {
   "cell_type": "markdown",
   "metadata": {},
   "source": [
    "**Interpretation:** For an 'PreviousScore' value of 0, the log-odds of 'Defaulted' is -7.71."
   ]
  },
  {
   "cell_type": "code",
   "execution_count": 797,
   "metadata": {},
   "outputs": [
    {
     "data": {
      "text/plain": [
       "array([ 0.04553096])"
      ]
     },
     "execution_count": 797,
     "metadata": {},
     "output_type": "execute_result"
    }
   ],
   "source": [
    "# convert log-odds to probability\n",
    "logodds = logreg.intercept_\n",
    "odds = np.exp(logodds)\n",
    "prob = odds/(1 + odds)\n",
    "prob"
   ]
  },
  {
   "cell_type": "markdown",
   "metadata": {},
   "source": [
    "0.04 --> Makes sense from the plot above, because the probability of Defaulted=1 should be very low for such a low 'PreviousScore' value."
   ]
  },
  {
   "cell_type": "markdown",
   "metadata": {},
   "source": [
    "![Logistic regression beta values](logit.gif)"
   ]
  },
  {
   "cell_type": "markdown",
   "metadata": {},
   "source": [
    "in the Logit Model the $\\beta_0$ line adjust better to **Binary values** (due to the odd ratio), whereas the **Linear regression** is a straight line and does not adjust according to probability (odds). For the credit risk (defaulted or no defaulted) a logistic regression is the better choice."
   ]
  },
  {
   "cell_type": "markdown",
   "metadata": {},
   "source": [
    "## Conclusion (Part 1): Comparing Logistic Regression with Other Models\n",
    "\n",
    "Logistic regression is a very useful tool where the dependent variable is Binary or Dichotomous. That means the dependent variable can take only two possible values such as “Default or No Default”. The model is widely used in credit risk analysis and is a better than a linear regression (due to the binary nature of “Default or No Default”).\n",
    "\n",
    "For further comparision (Advantages/Disadvantages) please consult the Powerpoint presentation.\n"
   ]
  },
  {
   "cell_type": "markdown",
   "metadata": {},
   "source": [
    "##### „Ich versichern hiermit, dass ich die schriftliche Ausarbeitung der Präsentation, Selbstständig angefertigt, alle Hilfen und Hilfsmittel angegeben und alle wörtlichen oder im Sinne nach aus Veröffentlichungen oder andere Quellen, insbesondere dem Internet entnommenen Inhalte kenntlich gemacht haben.“"
   ]
  }
 ],
 "metadata": {
  "kernelspec": {
   "display_name": "Python 3",
   "language": "python",
   "name": "python3"
  },
  "language_info": {
   "codemirror_mode": {
    "name": "ipython",
    "version": 3
   },
   "file_extension": ".py",
   "mimetype": "text/x-python",
   "name": "python",
   "nbconvert_exporter": "python",
   "pygments_lexer": "ipython3",
   "version": "3.6.1"
  }
 },
 "nbformat": 4,
 "nbformat_minor": 1
}
