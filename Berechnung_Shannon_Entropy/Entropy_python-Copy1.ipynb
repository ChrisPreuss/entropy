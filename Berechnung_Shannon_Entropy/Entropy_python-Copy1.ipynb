{
 "cells": [
  {
   "cell_type": "code",
   "execution_count": 1,
   "metadata": {
    "collapsed": true
   },
   "outputs": [],
   "source": [
    "import pandas as pd\n",
    "import statsmodels\n",
    "import numpy as np\n",
    "import scipy as sc\n",
    "import math\n",
    "from collections import Counter\n",
    "import sklearn\n",
    "\n",
    "import numpy as np\n",
    "\n",
    "from scipy.special import gamma,psi\n",
    "from scipy import ndimage\n",
    "from scipy.linalg import det\n",
    "from numpy import pi\n",
    "\n",
    "from sklearn.neighbors import NearestNeighbors\n",
    "\n"
   ]
  },
  {
   "cell_type": "code",
   "execution_count": 19,
   "metadata": {},
   "outputs": [
    {
     "name": "stdout",
     "output_type": "stream",
     "text": [
      "   Count\n",
      "0      1\n",
      "1      1\n",
      "2      1\n",
      "3      2\n"
     ]
    }
   ],
   "source": [
    "data = pd.read_csv('Test.csv').astype(float)\n",
    "bild_1 = pd.read_csv('Bild_1.csv')\n",
    "bild_2 = pd.read_csv('Bild_2.csv')\n",
    "bild_3 = pd.read_csv('Bild_3.csv')\n",
    "bild_4 = pd.read_csv('Bild_4.csv')\n",
    "bild_5 = pd.read_csv('Bild_5.csv')\n",
    "bild_6 = pd.read_csv('Bild_6.csv')\n",
    "\n",
    "\n",
    "#data.drop(data.columns[[0]], axis=1, inplace=True)\n",
    "#data.drop('Value', axis=1, inplace=True)\n",
    "\n",
    "\n",
    "# Or export it in many ways, e.g. a list of tuples\n",
    "#tuples = [tuple(x) for x in df.values]\n",
    "\n",
    "# or export it as a list of dicts\n",
    "#\n",
    "#dicts = df.to_dict().values()\n",
    "bild_1.columns.values[0] = \"Count\"\n",
    "bild_1.set_index('Count')\n",
    "\n",
    "bild_2.columns.values[0] = \"Count\"\n",
    "bild_2.set_index('Count')\n",
    "\n",
    "bild_3.columns.values[0] = \"Count\"\n",
    "bild_3.set_index('Count')\n",
    "\n",
    "bild_4.columns.values[0] = \"Count\"\n",
    "bild_4.set_index('Count')\n",
    "\n",
    "\n",
    "bild_5.columns.values[0] = \"Count\"\n",
    "bild_5.set_index('Count')\n",
    "\n",
    "\n",
    "bild_6.columns.values[0] = \"Count\"\n",
    "bild_6.set_index('Count')\n",
    "t = float((data == 0).sum())\n",
    "\n",
    "data['Count'] = data['Count'].astype(int)\n",
    "\n",
    "#print (t)\n",
    "print (data)\n",
    "#print (bild_2.head(1000))"
   ]
  },
  {
   "cell_type": "code",
   "execution_count": 11,
   "metadata": {},
   "outputs": [
    {
     "name": "stdout",
     "output_type": "stream",
     "text": [
      "   Count\n",
      "0      1\n",
      "1      1\n",
      "2      1\n",
      "3      2\n"
     ]
    }
   ],
   "source": [
    "#n = data.as_matrix()\n",
    "#print (n)\n",
    "print (data)\n",
    "q = float(data.sum())\n"
   ]
  },
  {
   "cell_type": "code",
   "execution_count": 22,
   "metadata": {},
   "outputs": [
    {
     "data": {
      "text/plain": [
       "0.5"
      ]
     },
     "execution_count": 22,
     "metadata": {},
     "output_type": "execute_result"
    }
   ],
   "source": [
    "r = data.astype(int)\n",
    "e =int(data.sum())\n",
    "e/10\n"
   ]
  },
  {
   "cell_type": "code",
   "execution_count": 13,
   "metadata": {},
   "outputs": [
    {
     "ename": "SyntaxError",
     "evalue": "invalid syntax (<ipython-input-13-3d47d8917115>, line 2)",
     "output_type": "error",
     "traceback": [
      "\u001b[0;36m  File \u001b[0;32m\"<ipython-input-13-3d47d8917115>\"\u001b[0;36m, line \u001b[0;32m2\u001b[0m\n\u001b[0;31m    i = []  s\u001b[0m\n\u001b[0m            ^\u001b[0m\n\u001b[0;31mSyntaxError\u001b[0m\u001b[0;31m:\u001b[0m invalid syntax\n"
     ]
    }
   ],
   "source": [
    "def proba(data):\n",
    "    i = []  s\n",
    "    for d in data:\n",
    "        u = float(d) / float(data.sum())\n",
    "        i.append(u)\n",
    "            \n",
    "    return i"
   ]
  },
  {
   "cell_type": "code",
   "execution_count": 37,
   "metadata": {},
   "outputs": [
    {
     "name": "stdout",
     "output_type": "stream",
     "text": [
      "0.0\n"
     ]
    }
   ],
   "source": [
    "import math\n",
    "from collections import Counter\n",
    "\n",
    "\n",
    "\n",
    "def eta(data, unit= 'shannon'):\n",
    "    base = {\n",
    "        'shannon' : 2.,\n",
    "        'natural' : math.exp(1),\n",
    "        'hartley' : 10.\n",
    "    }\n",
    "   \n",
    "    if len(data) <= 1:\n",
    "        return 0\n",
    "    \n",
    "    counts = Counter()\n",
    "    zeros = np.float64((data == 0).sum())\n",
    "\n",
    "    for d in data:\n",
    "        counts[d] += 1\n",
    "\n",
    "\n",
    "    probs = [float(c) / float(data.sum()) for c in counts.values()]\n",
    "    #probs = [float(c) / len(data) for c in counts.values()]\n",
    "    probs = [p for p in probs if p > 0.]\n",
    "\n",
    "    ent = 0\n",
    "\n",
    "    for p in probs:\n",
    "        if p > 0.:\n",
    "            ent -= p * math.log(p, base[unit])\n",
    "            \n",
    "            \n",
    "                    \n",
    "    hs = ent*t\n",
    "\n",
    "    return hs\n",
    "    \n",
    "\n",
    "print (eta(data))\n",
    "#print (eta(bild_2))\n",
    "#print (eta(bild_3))\n",
    "#print (eta(bild_4))\n",
    "#print (eta(bild_5))\n",
    "#print (eta(bild_6))"
   ]
  },
  {
   "cell_type": "code",
   "execution_count": 38,
   "metadata": {},
   "outputs": [
    {
     "name": "stdout",
     "output_type": "stream",
     "text": [
      "0.46438561897747244\n"
     ]
    }
   ],
   "source": [
    "import math\n",
    "from collections import Counter\n",
    "\n",
    "def eta(data, unit= 'shannon'):\n",
    "    base = {\n",
    "        'shannon' : 2.,\n",
    "        'natural' : math.exp(1),\n",
    "        'hartley' : 10.\n",
    "    }\n",
    "\n",
    "    if len(data) <= 1:\n",
    "        return 0\n",
    "\n",
    "    counts = Counter()\n",
    "    zeros = np.float64((data == 0).sum())\n",
    "\n",
    "    for d in data:\n",
    "        counts[d] += 1\n",
    "\n",
    "#    probs = [float(c) / len(data) for c in counts.values()]\n",
    "    probs = [float(c) / float(data.sum()) for c in counts.values()]\n",
    "    probs = [p for p in probs if p > 0.]\n",
    "\n",
    "    ent = 0\n",
    "\n",
    "    for p in probs:\n",
    "        if p > 0.:\n",
    "            ent -= p * math.log(p, base[unit])\n",
    "            t = len(data)\n",
    "            hs = ent*t\n",
    "\n",
    "    return ent\n",
    "print (eta(data))"
   ]
  },
  {
   "cell_type": "code",
   "execution_count": 34,
   "metadata": {
    "collapsed": true
   },
   "outputs": [],
   "source": [
    "import itertools"
   ]
  },
  {
   "cell_type": "code",
   "execution_count": 36,
   "metadata": {},
   "outputs": [
    {
     "ename": "NameError",
     "evalue": "name 'reduce' is not defined",
     "output_type": "error",
     "traceback": [
      "\u001b[0;31m---------------------------------------------------------------------------\u001b[0m",
      "\u001b[0;31mNameError\u001b[0m                                 Traceback (most recent call last)",
      "\u001b[0;32m<ipython-input-36-5502e225152e>\u001b[0m in \u001b[0;36m<module>\u001b[0;34m()\u001b[0m\n\u001b[1;32m      6\u001b[0m         (np.mean(reduce(np.logical_and, (predictions == c for predictions, c in zip(X, classes))))\n\u001b[1;32m      7\u001b[0m             for classes in itertools.product(*[set(x) for x in X]))))\n\u001b[0;32m----> 8\u001b[0;31m \u001b[0mprint\u001b[0m \u001b[0;34m(\u001b[0m\u001b[0mentropy\u001b[0m\u001b[0;34m(\u001b[0m\u001b[0mdata\u001b[0m\u001b[0;34m)\u001b[0m\u001b[0;34m)\u001b[0m\u001b[0;34m\u001b[0m\u001b[0m\n\u001b[0m",
      "\u001b[0;32m<ipython-input-36-5502e225152e>\u001b[0m in \u001b[0;36mentropy\u001b[0;34m(*X)\u001b[0m\n\u001b[1;32m      5\u001b[0m     return (np.sum(-p * np.log2(p) if p > 0 else 0 for p in\n\u001b[1;32m      6\u001b[0m         (np.mean(reduce(np.logical_and, (predictions == c for predictions, c in zip(X, classes))))\n\u001b[0;32m----> 7\u001b[0;31m             for classes in itertools.product(*[set(x) for x in X]))))\n\u001b[0m\u001b[1;32m      8\u001b[0m \u001b[0mprint\u001b[0m \u001b[0;34m(\u001b[0m\u001b[0mentropy\u001b[0m\u001b[0;34m(\u001b[0m\u001b[0mdata\u001b[0m\u001b[0;34m)\u001b[0m\u001b[0;34m)\u001b[0m\u001b[0;34m\u001b[0m\u001b[0m\n",
      "\u001b[0;32m/anaconda/lib/python3.6/site-packages/numpy/core/fromnumeric.py\u001b[0m in \u001b[0;36msum\u001b[0;34m(a, axis, dtype, out, keepdims)\u001b[0m\n\u001b[1;32m   1799\u001b[0m         \u001b[0mkwargs\u001b[0m\u001b[0;34m[\u001b[0m\u001b[0;34m'keepdims'\u001b[0m\u001b[0;34m]\u001b[0m \u001b[0;34m=\u001b[0m \u001b[0mkeepdims\u001b[0m\u001b[0;34m\u001b[0m\u001b[0m\n\u001b[1;32m   1800\u001b[0m     \u001b[0;32mif\u001b[0m \u001b[0misinstance\u001b[0m\u001b[0;34m(\u001b[0m\u001b[0ma\u001b[0m\u001b[0;34m,\u001b[0m \u001b[0m_gentype\u001b[0m\u001b[0;34m)\u001b[0m\u001b[0;34m:\u001b[0m\u001b[0;34m\u001b[0m\u001b[0m\n\u001b[0;32m-> 1801\u001b[0;31m         \u001b[0mres\u001b[0m \u001b[0;34m=\u001b[0m \u001b[0m_sum_\u001b[0m\u001b[0;34m(\u001b[0m\u001b[0ma\u001b[0m\u001b[0;34m)\u001b[0m\u001b[0;34m\u001b[0m\u001b[0m\n\u001b[0m\u001b[1;32m   1802\u001b[0m         \u001b[0;32mif\u001b[0m \u001b[0mout\u001b[0m \u001b[0;32mis\u001b[0m \u001b[0;32mnot\u001b[0m \u001b[0;32mNone\u001b[0m\u001b[0;34m:\u001b[0m\u001b[0;34m\u001b[0m\u001b[0m\n\u001b[1;32m   1803\u001b[0m             \u001b[0mout\u001b[0m\u001b[0;34m[\u001b[0m\u001b[0;34m...\u001b[0m\u001b[0;34m]\u001b[0m \u001b[0;34m=\u001b[0m \u001b[0mres\u001b[0m\u001b[0;34m\u001b[0m\u001b[0m\n",
      "\u001b[0;32m<ipython-input-36-5502e225152e>\u001b[0m in \u001b[0;36m<genexpr>\u001b[0;34m(.0)\u001b[0m\n\u001b[1;32m      3\u001b[0m \u001b[0;34m\u001b[0m\u001b[0m\n\u001b[1;32m      4\u001b[0m \u001b[0;32mdef\u001b[0m \u001b[0mentropy\u001b[0m\u001b[0;34m(\u001b[0m\u001b[0;34m*\u001b[0m\u001b[0mX\u001b[0m\u001b[0;34m)\u001b[0m\u001b[0;34m:\u001b[0m\u001b[0;34m\u001b[0m\u001b[0m\n\u001b[0;32m----> 5\u001b[0;31m     return (np.sum(-p * np.log2(p) if p > 0 else 0 for p in\n\u001b[0m\u001b[1;32m      6\u001b[0m         (np.mean(reduce(np.logical_and, (predictions == c for predictions, c in zip(X, classes))))\n\u001b[1;32m      7\u001b[0m             for classes in itertools.product(*[set(x) for x in X]))))\n",
      "\u001b[0;32m<ipython-input-36-5502e225152e>\u001b[0m in \u001b[0;36m<genexpr>\u001b[0;34m(.0)\u001b[0m\n\u001b[1;32m      5\u001b[0m     return (np.sum(-p * np.log2(p) if p > 0 else 0 for p in\n\u001b[1;32m      6\u001b[0m         (np.mean(reduce(np.logical_and, (predictions == c for predictions, c in zip(X, classes))))\n\u001b[0;32m----> 7\u001b[0;31m             for classes in itertools.product(*[set(x) for x in X]))))\n\u001b[0m\u001b[1;32m      8\u001b[0m \u001b[0mprint\u001b[0m \u001b[0;34m(\u001b[0m\u001b[0mentropy\u001b[0m\u001b[0;34m(\u001b[0m\u001b[0mdata\u001b[0m\u001b[0;34m)\u001b[0m\u001b[0;34m)\u001b[0m\u001b[0;34m\u001b[0m\u001b[0m\n",
      "\u001b[0;31mNameError\u001b[0m: name 'reduce' is not defined"
     ]
    }
   ],
   "source": [
    "import itertools\n",
    "import numpy as np\n",
    "\n",
    "def entropy(*X):\n",
    "    return (np.sum(-p * np.log2(p) if p > 0 else 0 for p in\n",
    "        (np.mean(reduce(np.logical_and, (predictions == c for predictions, c in zip(X, classes))))\n",
    "            for classes in itertools.product(*[set(x) for x in X]))))\n",
    "print (entropy(data))"
   ]
  },
  {
   "cell_type": "code",
   "execution_count": null,
   "metadata": {
    "collapsed": true
   },
   "outputs": [],
   "source": []
  }
 ],
 "metadata": {
  "kernelspec": {
   "display_name": "Python 3",
   "language": "python",
   "name": "python3"
  },
  "language_info": {
   "codemirror_mode": {
    "name": "ipython",
    "version": 3
   },
   "file_extension": ".py",
   "mimetype": "text/x-python",
   "name": "python",
   "nbconvert_exporter": "python",
   "pygments_lexer": "ipython3",
   "version": "3.6.1"
  }
 },
 "nbformat": 4,
 "nbformat_minor": 2
}
