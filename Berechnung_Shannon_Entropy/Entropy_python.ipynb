{
 "cells": [
  {
   "cell_type": "code",
   "execution_count": 2,
   "metadata": {
    "collapsed": true
   },
   "outputs": [],
   "source": [
    "import pandas as pd\n",
    "import statsmodels\n",
    "import numpy as np\n",
    "import scipy as sc\n",
    "import math\n",
    "from collections import Counter\n",
    "import sklearn\n",
    "\n",
    "import numpy as np\n",
    "\n",
    "from scipy.special import gamma,psi\n",
    "from scipy import ndimage\n",
    "from scipy.linalg import det\n",
    "from numpy import pi\n",
    "\n",
    "from sklearn.neighbors import NearestNeighbors\n",
    "\n"
   ]
  },
  {
   "cell_type": "code",
   "execution_count": 3,
   "metadata": {},
   "outputs": [
    {
     "name": "stdout",
     "output_type": "stream",
     "text": [
      "    Count\n",
      "0    2387\n",
      "1     106\n",
      "2      80\n",
      "3      53\n",
      "4      42\n",
      "5      23\n",
      "6      21\n",
      "7      22\n",
      "8       8\n",
      "9       6\n",
      "10     12\n",
      "11      5\n",
      "12      4\n",
      "13      4\n",
      "14      1\n",
      "15      2\n",
      "16      3\n",
      "17      0\n",
      "18      3\n",
      "19      3\n",
      "20      2\n",
      "21      0\n",
      "22      1\n",
      "23      2\n",
      "24      3\n",
      "25      0\n",
      "26      0\n",
      "27      0\n",
      "28      2\n",
      "29      0\n",
      "..    ...\n",
      "70      2\n",
      "71      0\n",
      "72      0\n",
      "73      0\n",
      "74      0\n",
      "75      0\n",
      "76      0\n",
      "77      1\n",
      "78      0\n",
      "79      0\n",
      "80      0\n",
      "81      0\n",
      "82      0\n",
      "83      0\n",
      "84      0\n",
      "85      0\n",
      "86      0\n",
      "87      0\n",
      "88      0\n",
      "89      0\n",
      "90      0\n",
      "91      0\n",
      "92      0\n",
      "93      0\n",
      "94      0\n",
      "95      0\n",
      "96      0\n",
      "97      0\n",
      "98      0\n",
      "99      0\n",
      "\n",
      "[100 rows x 1 columns]\n"
     ]
    }
   ],
   "source": [
    "bild_1 = pd.read_csv('Bild_1.csv')\n",
    "bild_2 = pd.read_csv('Bild_2.csv')\n",
    "bild_3 = pd.read_csv('Bild_3.csv')\n",
    "bild_4 = pd.read_csv('Bild_4.csv')\n",
    "bild_5 = pd.read_csv('Bild_5.csv')\n",
    "bild_6 = pd.read_csv('Bild_6.csv')\n",
    "#data.drop(data.columns[[0]], axis=1, inplace=True)\n",
    "#data.drop('Value', axis=1, inplace=True)\n",
    "\n",
    "\n",
    "# Or export it in many ways, e.g. a list of tuples\n",
    "#tuples = [tuple(x) for x in df.values]\n",
    "\n",
    "# or export it as a list of dicts\n",
    "#\n",
    "#dicts = df.to_dict().values()\n",
    "bild_1.columns.values[0] = \"Count\"\n",
    "bild_1.set_index('Count')\n",
    "\n",
    "bild_2.columns.values[0] = \"Count\"\n",
    "bild_2.set_index('Count')\n",
    "\n",
    "bild_3.columns.values[0] = \"Count\"\n",
    "bild_3.set_index('Count')\n",
    "\n",
    "bild_4.columns.values[0] = \"Count\"\n",
    "bild_4.set_index('Count')\n",
    "\n",
    "\n",
    "bild_5.columns.values[0] = \"Count\"\n",
    "bild_5.set_index('Count')\n",
    "\n",
    "\n",
    "bild_6.columns.values[0] = \"Count\"\n",
    "bild_6.set_index('Count')\n",
    "\n",
    "print (bild_1.head(100))\n",
    "#print (bild_2.head(1000))"
   ]
  },
  {
   "cell_type": "code",
   "execution_count": 4,
   "metadata": {
    "collapsed": true
   },
   "outputs": [],
   "source": [
    "#n = data.as_matrix()\n",
    "#print (n)"
   ]
  },
  {
   "cell_type": "code",
   "execution_count": 8,
   "metadata": {},
   "outputs": [
    {
     "ename": "NameError",
     "evalue": "name 'data' is not defined",
     "output_type": "error",
     "traceback": [
      "\u001b[0;31m---------------------------------------------------------------------------\u001b[0m",
      "\u001b[0;31mNameError\u001b[0m                                 Traceback (most recent call last)",
      "\u001b[0;32m<ipython-input-8-c19f2ef6910a>\u001b[0m in \u001b[0;36m<module>\u001b[0;34m()\u001b[0m\n\u001b[1;32m     30\u001b[0m     \u001b[0;32mreturn\u001b[0m \u001b[0ment\u001b[0m\u001b[0;34m\u001b[0m\u001b[0m\n\u001b[1;32m     31\u001b[0m \u001b[0;34m\u001b[0m\u001b[0m\n\u001b[0;32m---> 32\u001b[0;31m \u001b[0mprint\u001b[0m \u001b[0;34m(\u001b[0m\u001b[0meta\u001b[0m\u001b[0;34m(\u001b[0m\u001b[0mdata\u001b[0m\u001b[0;34m)\u001b[0m\u001b[0;34m)\u001b[0m\u001b[0;34m\u001b[0m\u001b[0m\n\u001b[0m\u001b[1;32m     33\u001b[0m \u001b[0;31m#print (eta(bild_2, 'shannon'))\u001b[0m\u001b[0;34m\u001b[0m\u001b[0;34m\u001b[0m\u001b[0m\n\u001b[1;32m     34\u001b[0m \u001b[0;31m#print (eta(bild_3, 'shannon'))\u001b[0m\u001b[0;34m\u001b[0m\u001b[0;34m\u001b[0m\u001b[0m\n",
      "\u001b[0;31mNameError\u001b[0m: name 'data' is not defined"
     ]
    }
   ],
   "source": [
    "import math\n",
    "from collections import Counter\n",
    "\n",
    "def eta(data, unit= 'shannon'):\n",
    "    base = {\n",
    "        'shannon' : 2.,\n",
    "        'natural' : math.exp(1),\n",
    "        'hartley' : 10.\n",
    "    }\n",
    "\n",
    "    if len(data) <= 1:\n",
    "        return 0\n",
    "\n",
    "    counts = Counter()\n",
    "\n",
    "    for d in data:\n",
    "        counts[d] += 1\n",
    "\n",
    "    probs = [float(c) / len(data) for c in counts.values()]\n",
    "    probs = [p for p in probs if p > 0.]\n",
    "\n",
    "    ent = 0\n",
    "\n",
    "    for p in probs:\n",
    "        if p > 0.:\n",
    "            ent -= p * math.log(p, base[unit])\n",
    "            t = len(data)\n",
    "            hs = ent*t\n",
    "\n",
    "    return ent\n",
    "\n",
    "print (eta(data))\n",
    "#print (eta(bild_2, 'shannon'))\n",
    "#print (eta(bild_3, 'shannon'))\n",
    "#print (eta(bild_4, 'shannon'))\n",
    "#print (eta(bild_5, 'shannon'))\n",
    "#print (eta(bild_6, 'shannon'))"
   ]
  },
  {
   "cell_type": "code",
   "execution_count": null,
   "metadata": {
    "collapsed": true
   },
   "outputs": [],
   "source": []
  }
 ],
 "metadata": {
  "kernelspec": {
   "display_name": "Python 3",
   "language": "python",
   "name": "python3"
  },
  "language_info": {
   "codemirror_mode": {
    "name": "ipython",
    "version": 3
   },
   "file_extension": ".py",
   "mimetype": "text/x-python",
   "name": "python",
   "nbconvert_exporter": "python",
   "pygments_lexer": "ipython3",
   "version": "3.6.1"
  }
 },
 "nbformat": 4,
 "nbformat_minor": 2
}
